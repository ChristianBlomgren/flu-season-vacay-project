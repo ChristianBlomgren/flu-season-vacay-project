{
 "cells": [
  {
   "cell_type": "code",
   "execution_count": 1,
   "id": "73dac40e-009c-406c-b8b5-1b7f16267e4a",
   "metadata": {},
   "outputs": [],
   "source": [
    "#Code test for project 3"
   ]
  },
  {
   "cell_type": "code",
   "execution_count": 18,
   "id": "2b36376e-0aa6-4b9a-9292-88357968fedf",
   "metadata": {},
   "outputs": [],
   "source": [
    "import pandas as pd"
   ]
  },
  {
   "cell_type": "code",
   "execution_count": 19,
   "id": "f134032c-13b4-481e-925e-399810156994",
   "metadata": {},
   "outputs": [],
   "source": [
    "starter_df = pd.read_csv('National By State/State_Custom_Data.csv')"
   ]
  },
  {
   "cell_type": "code",
   "execution_count": 20,
   "id": "bdeeec8b-1695-4ad6-90f9-3535889321de",
   "metadata": {
    "scrolled": true
   },
   "outputs": [
    {
     "data": {
      "text/html": [
       "<div>\n",
       "<style scoped>\n",
       "    .dataframe tbody tr th:only-of-type {\n",
       "        vertical-align: middle;\n",
       "    }\n",
       "\n",
       "    .dataframe tbody tr th {\n",
       "        vertical-align: top;\n",
       "    }\n",
       "\n",
       "    .dataframe thead th {\n",
       "        text-align: right;\n",
       "    }\n",
       "</style>\n",
       "<table border=\"1\" class=\"dataframe\">\n",
       "  <thead>\n",
       "    <tr style=\"text-align: right;\">\n",
       "      <th></th>\n",
       "      <th>AREA</th>\n",
       "      <th>SUB AREA</th>\n",
       "      <th>AGE GROUP</th>\n",
       "      <th>SEASON</th>\n",
       "      <th>WEEK</th>\n",
       "      <th>PERCENT I</th>\n",
       "      <th>PERCENT P&amp;I</th>\n",
       "      <th>PERCENT PIC</th>\n",
       "      <th>NUM INFLUENZA DEATHS</th>\n",
       "      <th>NUM PNEUMONIA DEATHS</th>\n",
       "      <th>NUM COVID-19 DEATHS</th>\n",
       "      <th>TOTAL PIC</th>\n",
       "      <th>TOTAL DEATHS</th>\n",
       "      <th>PERCENT COMPLETE</th>\n",
       "    </tr>\n",
       "  </thead>\n",
       "  <tbody>\n",
       "    <tr>\n",
       "      <th>0</th>\n",
       "      <td>State</td>\n",
       "      <td>Alabama</td>\n",
       "      <td>All</td>\n",
       "      <td>2023-24</td>\n",
       "      <td>40</td>\n",
       "      <td>NaN</td>\n",
       "      <td>4.6</td>\n",
       "      <td>5.9</td>\n",
       "      <td>0</td>\n",
       "      <td>48</td>\n",
       "      <td>21</td>\n",
       "      <td>62</td>\n",
       "      <td>1,050</td>\n",
       "      <td>&gt; 100%</td>\n",
       "    </tr>\n",
       "    <tr>\n",
       "      <th>1</th>\n",
       "      <td>State</td>\n",
       "      <td>Alabama</td>\n",
       "      <td>All</td>\n",
       "      <td>2023-24</td>\n",
       "      <td>41</td>\n",
       "      <td>NaN</td>\n",
       "      <td>5.5</td>\n",
       "      <td>6.8</td>\n",
       "      <td>0</td>\n",
       "      <td>60</td>\n",
       "      <td>20</td>\n",
       "      <td>74</td>\n",
       "      <td>1,094</td>\n",
       "      <td>&gt; 100%</td>\n",
       "    </tr>\n",
       "    <tr>\n",
       "      <th>2</th>\n",
       "      <td>State</td>\n",
       "      <td>Alabama</td>\n",
       "      <td>All</td>\n",
       "      <td>2023-24</td>\n",
       "      <td>42</td>\n",
       "      <td>NaN</td>\n",
       "      <td>4.5</td>\n",
       "      <td>5.5</td>\n",
       "      <td>0</td>\n",
       "      <td>47</td>\n",
       "      <td>14</td>\n",
       "      <td>57</td>\n",
       "      <td>1,043</td>\n",
       "      <td>&gt; 100%</td>\n",
       "    </tr>\n",
       "    <tr>\n",
       "      <th>3</th>\n",
       "      <td>State</td>\n",
       "      <td>Alabama</td>\n",
       "      <td>All</td>\n",
       "      <td>2023-24</td>\n",
       "      <td>43</td>\n",
       "      <td>NaN</td>\n",
       "      <td>5.0</td>\n",
       "      <td>5.4</td>\n",
       "      <td>1</td>\n",
       "      <td>53</td>\n",
       "      <td>8</td>\n",
       "      <td>59</td>\n",
       "      <td>1,085</td>\n",
       "      <td>&gt; 100%</td>\n",
       "    </tr>\n",
       "    <tr>\n",
       "      <th>4</th>\n",
       "      <td>State</td>\n",
       "      <td>Alabama</td>\n",
       "      <td>All</td>\n",
       "      <td>2023-24</td>\n",
       "      <td>44</td>\n",
       "      <td>NaN</td>\n",
       "      <td>4.7</td>\n",
       "      <td>6.2</td>\n",
       "      <td>1</td>\n",
       "      <td>52</td>\n",
       "      <td>20</td>\n",
       "      <td>69</td>\n",
       "      <td>1,121</td>\n",
       "      <td>&gt; 100%</td>\n",
       "    </tr>\n",
       "  </tbody>\n",
       "</table>\n",
       "</div>"
      ],
      "text/plain": [
       "    AREA SUB AREA AGE GROUP   SEASON  WEEK  PERCENT I  PERCENT P&I  \\\n",
       "0  State  Alabama       All  2023-24    40        NaN          4.6   \n",
       "1  State  Alabama       All  2023-24    41        NaN          5.5   \n",
       "2  State  Alabama       All  2023-24    42        NaN          4.5   \n",
       "3  State  Alabama       All  2023-24    43        NaN          5.0   \n",
       "4  State  Alabama       All  2023-24    44        NaN          4.7   \n",
       "\n",
       "   PERCENT PIC NUM INFLUENZA DEATHS NUM PNEUMONIA DEATHS NUM COVID-19 DEATHS  \\\n",
       "0          5.9                    0                   48                  21   \n",
       "1          6.8                    0                   60                  20   \n",
       "2          5.5                    0                   47                  14   \n",
       "3          5.4                    1                   53                   8   \n",
       "4          6.2                    1                   52                  20   \n",
       "\n",
       "  TOTAL PIC TOTAL DEATHS PERCENT COMPLETE  \n",
       "0        62        1,050           > 100%  \n",
       "1        74        1,094           > 100%  \n",
       "2        57        1,043           > 100%  \n",
       "3        59        1,085           > 100%  \n",
       "4        69        1,121           > 100%  "
      ]
     },
     "execution_count": 20,
     "metadata": {},
     "output_type": "execute_result"
    }
   ],
   "source": [
    "starter_df.head()"
   ]
  },
  {
   "cell_type": "code",
   "execution_count": 21,
   "id": "00a150ea-7b0b-44a3-afe4-c6354a0654f9",
   "metadata": {},
   "outputs": [],
   "source": [
    "starter_df['NUM INFLUENZA DEATHS'] = pd.to_numeric(starter_df['NUM INFLUENZA DEATHS'], errors = 'coerce')"
   ]
  },
  {
   "cell_type": "code",
   "execution_count": 22,
   "id": "45a17539-d1fe-4a4a-b357-cec9bfd0ac17",
   "metadata": {},
   "outputs": [],
   "source": [
    "starter_df = starter_df.dropna(subset=['NUM INFLUENZA DEATHS'])"
   ]
  },
  {
   "cell_type": "code",
   "execution_count": 23,
   "id": "c7577498-c8e1-449c-89c6-8bfd288fca31",
   "metadata": {},
   "outputs": [],
   "source": [
    "starter_df['NUM INFLUENZA DEATHS'] = starter_df['NUM INFLUENZA DEATHS'].astype(int)"
   ]
  },
  {
   "cell_type": "code",
   "execution_count": 24,
   "id": "ab62402a-bc34-42dd-b048-1bb9440193d1",
   "metadata": {},
   "outputs": [
    {
     "data": {
      "text/plain": [
       "[164,\n",
       " 24,\n",
       " 155,\n",
       " 101,\n",
       " 604,\n",
       " 143,\n",
       " 92,\n",
       " 37,\n",
       " 5,\n",
       " 554,\n",
       " 288,\n",
       " 19,\n",
       " 43,\n",
       " 228,\n",
       " 191,\n",
       " 121,\n",
       " 51,\n",
       " 181,\n",
       " 146,\n",
       " 50,\n",
       " 130,\n",
       " 205,\n",
       " 274,\n",
       " 150,\n",
       " 122,\n",
       " 146,\n",
       " 75,\n",
       " 58,\n",
       " 82,\n",
       " 48,\n",
       " 181,\n",
       " 69,\n",
       " 324,\n",
       " 214,\n",
       " 421,\n",
       " 34,\n",
       " 296,\n",
       " 152,\n",
       " 68,\n",
       " 421,\n",
       " 47,\n",
       " 223,\n",
       " 45,\n",
       " 249,\n",
       " 639,\n",
       " 62,\n",
       " 24,\n",
       " 222,\n",
       " 140,\n",
       " 91,\n",
       " 138,\n",
       " 29]"
      ]
     },
     "execution_count": 24,
     "metadata": {},
     "output_type": "execute_result"
    }
   ],
   "source": [
    "influenzadeathsbystate = starter_df.groupby('SUB AREA')['NUM INFLUENZA DEATHS'].sum()\n",
    "influenzadeathsbystate = influenzadeathsbystate.tolist()\n",
    "influenzadeathsbystate"
   ]
  },
  {
   "cell_type": "code",
   "execution_count": 25,
   "id": "8810a744-5be3-4e9c-accf-d90e154b3979",
   "metadata": {},
   "outputs": [
    {
     "data": {
      "text/html": [
       "<div>\n",
       "<style scoped>\n",
       "    .dataframe tbody tr th:only-of-type {\n",
       "        vertical-align: middle;\n",
       "    }\n",
       "\n",
       "    .dataframe tbody tr th {\n",
       "        vertical-align: top;\n",
       "    }\n",
       "\n",
       "    .dataframe thead th {\n",
       "        text-align: right;\n",
       "    }\n",
       "</style>\n",
       "<table border=\"1\" class=\"dataframe\">\n",
       "  <thead>\n",
       "    <tr style=\"text-align: right;\">\n",
       "      <th></th>\n",
       "      <th>AREA</th>\n",
       "      <th>SUB AREA</th>\n",
       "      <th>AGE GROUP</th>\n",
       "      <th>SEASON</th>\n",
       "      <th>WEEK</th>\n",
       "      <th>PERCENT I</th>\n",
       "      <th>PERCENT P&amp;I</th>\n",
       "      <th>PERCENT PIC</th>\n",
       "      <th>NUM INFLUENZA DEATHS</th>\n",
       "      <th>NUM PNEUMONIA DEATHS</th>\n",
       "      <th>NUM COVID-19 DEATHS</th>\n",
       "      <th>TOTAL PIC</th>\n",
       "      <th>TOTAL DEATHS</th>\n",
       "      <th>PERCENT COMPLETE</th>\n",
       "    </tr>\n",
       "  </thead>\n",
       "  <tbody>\n",
       "    <tr>\n",
       "      <th>0</th>\n",
       "      <td>State</td>\n",
       "      <td>Alabama</td>\n",
       "      <td>All</td>\n",
       "      <td>2023-24</td>\n",
       "      <td>40</td>\n",
       "      <td>NaN</td>\n",
       "      <td>4.6</td>\n",
       "      <td>5.9</td>\n",
       "      <td>0</td>\n",
       "      <td>48</td>\n",
       "      <td>21</td>\n",
       "      <td>62</td>\n",
       "      <td>1,050</td>\n",
       "      <td>&gt; 100%</td>\n",
       "    </tr>\n",
       "    <tr>\n",
       "      <th>27</th>\n",
       "      <td>State</td>\n",
       "      <td>Alaska</td>\n",
       "      <td>All</td>\n",
       "      <td>2023-24</td>\n",
       "      <td>40</td>\n",
       "      <td>NaN</td>\n",
       "      <td>4.6</td>\n",
       "      <td>7.3</td>\n",
       "      <td>1</td>\n",
       "      <td>4</td>\n",
       "      <td>3</td>\n",
       "      <td>8</td>\n",
       "      <td>109</td>\n",
       "      <td>&gt; 100%</td>\n",
       "    </tr>\n",
       "    <tr>\n",
       "      <th>54</th>\n",
       "      <td>State</td>\n",
       "      <td>Arizona</td>\n",
       "      <td>All</td>\n",
       "      <td>2023-24</td>\n",
       "      <td>40</td>\n",
       "      <td>NaN</td>\n",
       "      <td>5.3</td>\n",
       "      <td>6.7</td>\n",
       "      <td>1</td>\n",
       "      <td>67</td>\n",
       "      <td>27</td>\n",
       "      <td>87</td>\n",
       "      <td>1,295</td>\n",
       "      <td>&gt; 100%</td>\n",
       "    </tr>\n",
       "    <tr>\n",
       "      <th>81</th>\n",
       "      <td>State</td>\n",
       "      <td>Arkansas</td>\n",
       "      <td>All</td>\n",
       "      <td>2023-24</td>\n",
       "      <td>40</td>\n",
       "      <td>NaN</td>\n",
       "      <td>6.8</td>\n",
       "      <td>7.9</td>\n",
       "      <td>0</td>\n",
       "      <td>47</td>\n",
       "      <td>17</td>\n",
       "      <td>55</td>\n",
       "      <td>694</td>\n",
       "      <td>&gt; 100%</td>\n",
       "    </tr>\n",
       "    <tr>\n",
       "      <th>108</th>\n",
       "      <td>State</td>\n",
       "      <td>California</td>\n",
       "      <td>All</td>\n",
       "      <td>2023-24</td>\n",
       "      <td>40</td>\n",
       "      <td>NaN</td>\n",
       "      <td>6.5</td>\n",
       "      <td>7.6</td>\n",
       "      <td>1</td>\n",
       "      <td>354</td>\n",
       "      <td>119</td>\n",
       "      <td>414</td>\n",
       "      <td>5,454</td>\n",
       "      <td>&gt; 100%</td>\n",
       "    </tr>\n",
       "    <tr>\n",
       "      <th>135</th>\n",
       "      <td>State</td>\n",
       "      <td>Colorado</td>\n",
       "      <td>All</td>\n",
       "      <td>2023-24</td>\n",
       "      <td>40</td>\n",
       "      <td>NaN</td>\n",
       "      <td>5.4</td>\n",
       "      <td>7.0</td>\n",
       "      <td>2</td>\n",
       "      <td>43</td>\n",
       "      <td>16</td>\n",
       "      <td>58</td>\n",
       "      <td>833</td>\n",
       "      <td>&gt; 100%</td>\n",
       "    </tr>\n",
       "    <tr>\n",
       "      <th>162</th>\n",
       "      <td>State</td>\n",
       "      <td>Connecticut</td>\n",
       "      <td>All</td>\n",
       "      <td>2023-24</td>\n",
       "      <td>40</td>\n",
       "      <td>NaN</td>\n",
       "      <td>6.0</td>\n",
       "      <td>8.5</td>\n",
       "      <td>0</td>\n",
       "      <td>38</td>\n",
       "      <td>22</td>\n",
       "      <td>54</td>\n",
       "      <td>635</td>\n",
       "      <td>&gt; 100%</td>\n",
       "    </tr>\n",
       "    <tr>\n",
       "      <th>189</th>\n",
       "      <td>State</td>\n",
       "      <td>Delaware</td>\n",
       "      <td>All</td>\n",
       "      <td>2023-24</td>\n",
       "      <td>40</td>\n",
       "      <td>NaN</td>\n",
       "      <td>6.2</td>\n",
       "      <td>8.5</td>\n",
       "      <td>0</td>\n",
       "      <td>13</td>\n",
       "      <td>8</td>\n",
       "      <td>18</td>\n",
       "      <td>211</td>\n",
       "      <td>&gt; 100%</td>\n",
       "    </tr>\n",
       "    <tr>\n",
       "      <th>216</th>\n",
       "      <td>State</td>\n",
       "      <td>District of Columbia</td>\n",
       "      <td>All</td>\n",
       "      <td>2023-24</td>\n",
       "      <td>40</td>\n",
       "      <td>NaN</td>\n",
       "      <td>7.9</td>\n",
       "      <td>10.1</td>\n",
       "      <td>0</td>\n",
       "      <td>7</td>\n",
       "      <td>2</td>\n",
       "      <td>9</td>\n",
       "      <td>89</td>\n",
       "      <td>&gt; 100%</td>\n",
       "    </tr>\n",
       "    <tr>\n",
       "      <th>243</th>\n",
       "      <td>State</td>\n",
       "      <td>Florida</td>\n",
       "      <td>All</td>\n",
       "      <td>2023-24</td>\n",
       "      <td>40</td>\n",
       "      <td>NaN</td>\n",
       "      <td>6.6</td>\n",
       "      <td>7.7</td>\n",
       "      <td>2</td>\n",
       "      <td>276</td>\n",
       "      <td>103</td>\n",
       "      <td>322</td>\n",
       "      <td>4,209</td>\n",
       "      <td>&gt; 100%</td>\n",
       "    </tr>\n",
       "    <tr>\n",
       "      <th>270</th>\n",
       "      <td>State</td>\n",
       "      <td>Georgia</td>\n",
       "      <td>All</td>\n",
       "      <td>2023-24</td>\n",
       "      <td>40</td>\n",
       "      <td>NaN</td>\n",
       "      <td>5.5</td>\n",
       "      <td>6.7</td>\n",
       "      <td>2</td>\n",
       "      <td>96</td>\n",
       "      <td>42</td>\n",
       "      <td>119</td>\n",
       "      <td>1,770</td>\n",
       "      <td>&gt; 100%</td>\n",
       "    </tr>\n",
       "    <tr>\n",
       "      <th>297</th>\n",
       "      <td>State</td>\n",
       "      <td>Hawaii</td>\n",
       "      <td>All</td>\n",
       "      <td>2023-24</td>\n",
       "      <td>40</td>\n",
       "      <td>NaN</td>\n",
       "      <td>4.8</td>\n",
       "      <td>7.0</td>\n",
       "      <td>0</td>\n",
       "      <td>11</td>\n",
       "      <td>6</td>\n",
       "      <td>16</td>\n",
       "      <td>228</td>\n",
       "      <td>&gt; 100%</td>\n",
       "    </tr>\n",
       "    <tr>\n",
       "      <th>324</th>\n",
       "      <td>State</td>\n",
       "      <td>Idaho</td>\n",
       "      <td>All</td>\n",
       "      <td>2023-24</td>\n",
       "      <td>40</td>\n",
       "      <td>NaN</td>\n",
       "      <td>4.8</td>\n",
       "      <td>5.1</td>\n",
       "      <td>0</td>\n",
       "      <td>15</td>\n",
       "      <td>3</td>\n",
       "      <td>16</td>\n",
       "      <td>314</td>\n",
       "      <td>&gt; 100%</td>\n",
       "    </tr>\n",
       "    <tr>\n",
       "      <th>351</th>\n",
       "      <td>State</td>\n",
       "      <td>Illinois</td>\n",
       "      <td>All</td>\n",
       "      <td>2023-24</td>\n",
       "      <td>40</td>\n",
       "      <td>NaN</td>\n",
       "      <td>5.6</td>\n",
       "      <td>6.5</td>\n",
       "      <td>0</td>\n",
       "      <td>115</td>\n",
       "      <td>37</td>\n",
       "      <td>133</td>\n",
       "      <td>2,062</td>\n",
       "      <td>&gt; 100%</td>\n",
       "    </tr>\n",
       "    <tr>\n",
       "      <th>378</th>\n",
       "      <td>State</td>\n",
       "      <td>Indiana</td>\n",
       "      <td>All</td>\n",
       "      <td>2023-24</td>\n",
       "      <td>40</td>\n",
       "      <td>NaN</td>\n",
       "      <td>5.8</td>\n",
       "      <td>7.8</td>\n",
       "      <td>0</td>\n",
       "      <td>77</td>\n",
       "      <td>38</td>\n",
       "      <td>104</td>\n",
       "      <td>1,329</td>\n",
       "      <td>&gt; 100%</td>\n",
       "    </tr>\n",
       "    <tr>\n",
       "      <th>405</th>\n",
       "      <td>State</td>\n",
       "      <td>Iowa</td>\n",
       "      <td>All</td>\n",
       "      <td>2023-24</td>\n",
       "      <td>40</td>\n",
       "      <td>NaN</td>\n",
       "      <td>5.1</td>\n",
       "      <td>6.1</td>\n",
       "      <td>0</td>\n",
       "      <td>30</td>\n",
       "      <td>11</td>\n",
       "      <td>36</td>\n",
       "      <td>588</td>\n",
       "      <td>&gt; 100%</td>\n",
       "    </tr>\n",
       "    <tr>\n",
       "      <th>432</th>\n",
       "      <td>State</td>\n",
       "      <td>Kansas</td>\n",
       "      <td>All</td>\n",
       "      <td>2023-24</td>\n",
       "      <td>40</td>\n",
       "      <td>NaN</td>\n",
       "      <td>3.5</td>\n",
       "      <td>4.8</td>\n",
       "      <td>0</td>\n",
       "      <td>19</td>\n",
       "      <td>7</td>\n",
       "      <td>26</td>\n",
       "      <td>539</td>\n",
       "      <td>&gt; 100%</td>\n",
       "    </tr>\n",
       "    <tr>\n",
       "      <th>459</th>\n",
       "      <td>State</td>\n",
       "      <td>Kentucky</td>\n",
       "      <td>All</td>\n",
       "      <td>2023-24</td>\n",
       "      <td>40</td>\n",
       "      <td>NaN</td>\n",
       "      <td>7.7</td>\n",
       "      <td>9.5</td>\n",
       "      <td>1</td>\n",
       "      <td>72</td>\n",
       "      <td>28</td>\n",
       "      <td>91</td>\n",
       "      <td>953</td>\n",
       "      <td>&gt; 100%</td>\n",
       "    </tr>\n",
       "    <tr>\n",
       "      <th>486</th>\n",
       "      <td>State</td>\n",
       "      <td>Louisiana</td>\n",
       "      <td>All</td>\n",
       "      <td>2023-24</td>\n",
       "      <td>40</td>\n",
       "      <td>NaN</td>\n",
       "      <td>4.0</td>\n",
       "      <td>5.1</td>\n",
       "      <td>0</td>\n",
       "      <td>37</td>\n",
       "      <td>12</td>\n",
       "      <td>47</td>\n",
       "      <td>919</td>\n",
       "      <td>&gt; 100%</td>\n",
       "    </tr>\n",
       "    <tr>\n",
       "      <th>513</th>\n",
       "      <td>State</td>\n",
       "      <td>Maine</td>\n",
       "      <td>All</td>\n",
       "      <td>2023-24</td>\n",
       "      <td>40</td>\n",
       "      <td>NaN</td>\n",
       "      <td>5.5</td>\n",
       "      <td>8.4</td>\n",
       "      <td>0</td>\n",
       "      <td>17</td>\n",
       "      <td>10</td>\n",
       "      <td>26</td>\n",
       "      <td>309</td>\n",
       "      <td>&gt; 100%</td>\n",
       "    </tr>\n",
       "    <tr>\n",
       "      <th>540</th>\n",
       "      <td>State</td>\n",
       "      <td>Maryland</td>\n",
       "      <td>All</td>\n",
       "      <td>2023-24</td>\n",
       "      <td>40</td>\n",
       "      <td>NaN</td>\n",
       "      <td>6.5</td>\n",
       "      <td>8.1</td>\n",
       "      <td>0</td>\n",
       "      <td>66</td>\n",
       "      <td>24</td>\n",
       "      <td>82</td>\n",
       "      <td>1,015</td>\n",
       "      <td>&gt; 100%</td>\n",
       "    </tr>\n",
       "    <tr>\n",
       "      <th>567</th>\n",
       "      <td>State</td>\n",
       "      <td>Massachusetts</td>\n",
       "      <td>All</td>\n",
       "      <td>2023-24</td>\n",
       "      <td>40</td>\n",
       "      <td>NaN</td>\n",
       "      <td>6.1</td>\n",
       "      <td>8.3</td>\n",
       "      <td>2</td>\n",
       "      <td>71</td>\n",
       "      <td>34</td>\n",
       "      <td>99</td>\n",
       "      <td>1,189</td>\n",
       "      <td>&gt; 100%</td>\n",
       "    </tr>\n",
       "    <tr>\n",
       "      <th>594</th>\n",
       "      <td>State</td>\n",
       "      <td>Michigan</td>\n",
       "      <td>All</td>\n",
       "      <td>2023-24</td>\n",
       "      <td>40</td>\n",
       "      <td>NaN</td>\n",
       "      <td>4.2</td>\n",
       "      <td>5.3</td>\n",
       "      <td>1</td>\n",
       "      <td>81</td>\n",
       "      <td>36</td>\n",
       "      <td>103</td>\n",
       "      <td>1,941</td>\n",
       "      <td>&gt; 100%</td>\n",
       "    </tr>\n",
       "    <tr>\n",
       "      <th>621</th>\n",
       "      <td>State</td>\n",
       "      <td>Minnesota</td>\n",
       "      <td>All</td>\n",
       "      <td>2023-24</td>\n",
       "      <td>40</td>\n",
       "      <td>NaN</td>\n",
       "      <td>4.5</td>\n",
       "      <td>6.5</td>\n",
       "      <td>0</td>\n",
       "      <td>41</td>\n",
       "      <td>29</td>\n",
       "      <td>59</td>\n",
       "      <td>909</td>\n",
       "      <td>&gt; 100%</td>\n",
       "    </tr>\n",
       "    <tr>\n",
       "      <th>648</th>\n",
       "      <td>State</td>\n",
       "      <td>Mississippi</td>\n",
       "      <td>All</td>\n",
       "      <td>2023-24</td>\n",
       "      <td>40</td>\n",
       "      <td>NaN</td>\n",
       "      <td>7.6</td>\n",
       "      <td>9.9</td>\n",
       "      <td>1</td>\n",
       "      <td>54</td>\n",
       "      <td>30</td>\n",
       "      <td>72</td>\n",
       "      <td>725</td>\n",
       "      <td>&gt; 100%</td>\n",
       "    </tr>\n",
       "    <tr>\n",
       "      <th>675</th>\n",
       "      <td>State</td>\n",
       "      <td>Missouri</td>\n",
       "      <td>All</td>\n",
       "      <td>2023-24</td>\n",
       "      <td>40</td>\n",
       "      <td>NaN</td>\n",
       "      <td>5.0</td>\n",
       "      <td>6.0</td>\n",
       "      <td>2</td>\n",
       "      <td>59</td>\n",
       "      <td>28</td>\n",
       "      <td>74</td>\n",
       "      <td>1,226</td>\n",
       "      <td>&gt; 100%</td>\n",
       "    </tr>\n",
       "    <tr>\n",
       "      <th>702</th>\n",
       "      <td>State</td>\n",
       "      <td>Montana</td>\n",
       "      <td>All</td>\n",
       "      <td>2023-24</td>\n",
       "      <td>40</td>\n",
       "      <td>NaN</td>\n",
       "      <td>5.9</td>\n",
       "      <td>8.0</td>\n",
       "      <td>1</td>\n",
       "      <td>13</td>\n",
       "      <td>6</td>\n",
       "      <td>19</td>\n",
       "      <td>238</td>\n",
       "      <td>&gt; 100%</td>\n",
       "    </tr>\n",
       "    <tr>\n",
       "      <th>729</th>\n",
       "      <td>State</td>\n",
       "      <td>Nebraska</td>\n",
       "      <td>All</td>\n",
       "      <td>2023-24</td>\n",
       "      <td>40</td>\n",
       "      <td>NaN</td>\n",
       "      <td>4.1</td>\n",
       "      <td>5.4</td>\n",
       "      <td>0</td>\n",
       "      <td>13</td>\n",
       "      <td>5</td>\n",
       "      <td>17</td>\n",
       "      <td>315</td>\n",
       "      <td>&gt; 100%</td>\n",
       "    </tr>\n",
       "    <tr>\n",
       "      <th>756</th>\n",
       "      <td>State</td>\n",
       "      <td>Nevada</td>\n",
       "      <td>All</td>\n",
       "      <td>2023-24</td>\n",
       "      <td>40</td>\n",
       "      <td>NaN</td>\n",
       "      <td>5.8</td>\n",
       "      <td>7.4</td>\n",
       "      <td>0</td>\n",
       "      <td>28</td>\n",
       "      <td>13</td>\n",
       "      <td>36</td>\n",
       "      <td>485</td>\n",
       "      <td>&gt; 100%</td>\n",
       "    </tr>\n",
       "    <tr>\n",
       "      <th>783</th>\n",
       "      <td>State</td>\n",
       "      <td>New Hampshire</td>\n",
       "      <td>All</td>\n",
       "      <td>2023-24</td>\n",
       "      <td>40</td>\n",
       "      <td>NaN</td>\n",
       "      <td>2.7</td>\n",
       "      <td>5.8</td>\n",
       "      <td>0</td>\n",
       "      <td>8</td>\n",
       "      <td>10</td>\n",
       "      <td>17</td>\n",
       "      <td>292</td>\n",
       "      <td>&gt; 100%</td>\n",
       "    </tr>\n",
       "    <tr>\n",
       "      <th>810</th>\n",
       "      <td>State</td>\n",
       "      <td>New Jersey</td>\n",
       "      <td>All</td>\n",
       "      <td>2023-24</td>\n",
       "      <td>40</td>\n",
       "      <td>NaN</td>\n",
       "      <td>4.2</td>\n",
       "      <td>5.7</td>\n",
       "      <td>2</td>\n",
       "      <td>60</td>\n",
       "      <td>32</td>\n",
       "      <td>85</td>\n",
       "      <td>1,486</td>\n",
       "      <td>&gt; 100%</td>\n",
       "    </tr>\n",
       "    <tr>\n",
       "      <th>837</th>\n",
       "      <td>State</td>\n",
       "      <td>New Mexico</td>\n",
       "      <td>All</td>\n",
       "      <td>2023-24</td>\n",
       "      <td>40</td>\n",
       "      <td>NaN</td>\n",
       "      <td>8.0</td>\n",
       "      <td>10.7</td>\n",
       "      <td>0</td>\n",
       "      <td>33</td>\n",
       "      <td>14</td>\n",
       "      <td>44</td>\n",
       "      <td>411</td>\n",
       "      <td>&gt; 100%</td>\n",
       "    </tr>\n",
       "    <tr>\n",
       "      <th>864</th>\n",
       "      <td>State</td>\n",
       "      <td>New York</td>\n",
       "      <td>All</td>\n",
       "      <td>2023-24</td>\n",
       "      <td>40</td>\n",
       "      <td>NaN</td>\n",
       "      <td>8.0</td>\n",
       "      <td>10.7</td>\n",
       "      <td>1</td>\n",
       "      <td>166</td>\n",
       "      <td>82</td>\n",
       "      <td>223</td>\n",
       "      <td>2,076</td>\n",
       "      <td>&gt; 100%</td>\n",
       "    </tr>\n",
       "    <tr>\n",
       "      <th>891</th>\n",
       "      <td>State</td>\n",
       "      <td>North Carolina</td>\n",
       "      <td>All</td>\n",
       "      <td>2023-24</td>\n",
       "      <td>40</td>\n",
       "      <td>NaN</td>\n",
       "      <td>6.9</td>\n",
       "      <td>8.8</td>\n",
       "      <td>1</td>\n",
       "      <td>138</td>\n",
       "      <td>59</td>\n",
       "      <td>176</td>\n",
       "      <td>2,001</td>\n",
       "      <td>&gt; 100%</td>\n",
       "    </tr>\n",
       "    <tr>\n",
       "      <th>918</th>\n",
       "      <td>State</td>\n",
       "      <td>North Dakota</td>\n",
       "      <td>All</td>\n",
       "      <td>2023-24</td>\n",
       "      <td>40</td>\n",
       "      <td>NaN</td>\n",
       "      <td>6.8</td>\n",
       "      <td>8.3</td>\n",
       "      <td>0</td>\n",
       "      <td>9</td>\n",
       "      <td>4</td>\n",
       "      <td>11</td>\n",
       "      <td>133</td>\n",
       "      <td>&gt; 100%</td>\n",
       "    </tr>\n",
       "    <tr>\n",
       "      <th>945</th>\n",
       "      <td>State</td>\n",
       "      <td>Ohio</td>\n",
       "      <td>All</td>\n",
       "      <td>2023-24</td>\n",
       "      <td>40</td>\n",
       "      <td>NaN</td>\n",
       "      <td>4.8</td>\n",
       "      <td>6.8</td>\n",
       "      <td>0</td>\n",
       "      <td>118</td>\n",
       "      <td>75</td>\n",
       "      <td>168</td>\n",
       "      <td>2,478</td>\n",
       "      <td>&gt; 100%</td>\n",
       "    </tr>\n",
       "    <tr>\n",
       "      <th>972</th>\n",
       "      <td>State</td>\n",
       "      <td>Oklahoma</td>\n",
       "      <td>All</td>\n",
       "      <td>2023-24</td>\n",
       "      <td>40</td>\n",
       "      <td>NaN</td>\n",
       "      <td>9.0</td>\n",
       "      <td>10.7</td>\n",
       "      <td>2</td>\n",
       "      <td>71</td>\n",
       "      <td>20</td>\n",
       "      <td>87</td>\n",
       "      <td>810</td>\n",
       "      <td>&gt; 100%</td>\n",
       "    </tr>\n",
       "    <tr>\n",
       "      <th>999</th>\n",
       "      <td>State</td>\n",
       "      <td>Oregon</td>\n",
       "      <td>All</td>\n",
       "      <td>2023-24</td>\n",
       "      <td>40</td>\n",
       "      <td>NaN</td>\n",
       "      <td>5.1</td>\n",
       "      <td>7.0</td>\n",
       "      <td>1</td>\n",
       "      <td>42</td>\n",
       "      <td>22</td>\n",
       "      <td>59</td>\n",
       "      <td>845</td>\n",
       "      <td>&gt; 100%</td>\n",
       "    </tr>\n",
       "    <tr>\n",
       "      <th>1026</th>\n",
       "      <td>State</td>\n",
       "      <td>Pennsylvania</td>\n",
       "      <td>All</td>\n",
       "      <td>2023-24</td>\n",
       "      <td>40</td>\n",
       "      <td>NaN</td>\n",
       "      <td>4.9</td>\n",
       "      <td>6.5</td>\n",
       "      <td>1</td>\n",
       "      <td>132</td>\n",
       "      <td>65</td>\n",
       "      <td>177</td>\n",
       "      <td>2,734</td>\n",
       "      <td>&gt; 100%</td>\n",
       "    </tr>\n",
       "    <tr>\n",
       "      <th>1053</th>\n",
       "      <td>State</td>\n",
       "      <td>Rhode Island</td>\n",
       "      <td>All</td>\n",
       "      <td>2023-24</td>\n",
       "      <td>40</td>\n",
       "      <td>NaN</td>\n",
       "      <td>6.4</td>\n",
       "      <td>9.1</td>\n",
       "      <td>0</td>\n",
       "      <td>14</td>\n",
       "      <td>9</td>\n",
       "      <td>20</td>\n",
       "      <td>219</td>\n",
       "      <td>&gt; 100%</td>\n",
       "    </tr>\n",
       "    <tr>\n",
       "      <th>1080</th>\n",
       "      <td>State</td>\n",
       "      <td>South Carolina</td>\n",
       "      <td>All</td>\n",
       "      <td>2023-24</td>\n",
       "      <td>40</td>\n",
       "      <td>NaN</td>\n",
       "      <td>5.3</td>\n",
       "      <td>6.3</td>\n",
       "      <td>0</td>\n",
       "      <td>57</td>\n",
       "      <td>17</td>\n",
       "      <td>68</td>\n",
       "      <td>1,074</td>\n",
       "      <td>&gt; 100%</td>\n",
       "    </tr>\n",
       "    <tr>\n",
       "      <th>1107</th>\n",
       "      <td>State</td>\n",
       "      <td>South Dakota</td>\n",
       "      <td>All</td>\n",
       "      <td>2023-24</td>\n",
       "      <td>40</td>\n",
       "      <td>NaN</td>\n",
       "      <td>6.1</td>\n",
       "      <td>8.5</td>\n",
       "      <td>0</td>\n",
       "      <td>10</td>\n",
       "      <td>5</td>\n",
       "      <td>14</td>\n",
       "      <td>165</td>\n",
       "      <td>&gt; 100%</td>\n",
       "    </tr>\n",
       "    <tr>\n",
       "      <th>1134</th>\n",
       "      <td>State</td>\n",
       "      <td>Tennessee</td>\n",
       "      <td>All</td>\n",
       "      <td>2023-24</td>\n",
       "      <td>40</td>\n",
       "      <td>NaN</td>\n",
       "      <td>5.8</td>\n",
       "      <td>7.2</td>\n",
       "      <td>1</td>\n",
       "      <td>83</td>\n",
       "      <td>27</td>\n",
       "      <td>104</td>\n",
       "      <td>1,442</td>\n",
       "      <td>&gt; 100%</td>\n",
       "    </tr>\n",
       "    <tr>\n",
       "      <th>1161</th>\n",
       "      <td>State</td>\n",
       "      <td>Texas</td>\n",
       "      <td>All</td>\n",
       "      <td>2023-24</td>\n",
       "      <td>40</td>\n",
       "      <td>NaN</td>\n",
       "      <td>5.7</td>\n",
       "      <td>6.8</td>\n",
       "      <td>1</td>\n",
       "      <td>239</td>\n",
       "      <td>83</td>\n",
       "      <td>288</td>\n",
       "      <td>4,227</td>\n",
       "      <td>&gt; 100%</td>\n",
       "    </tr>\n",
       "    <tr>\n",
       "      <th>1188</th>\n",
       "      <td>State</td>\n",
       "      <td>Utah</td>\n",
       "      <td>All</td>\n",
       "      <td>2023-24</td>\n",
       "      <td>40</td>\n",
       "      <td>NaN</td>\n",
       "      <td>4.7</td>\n",
       "      <td>5.8</td>\n",
       "      <td>0</td>\n",
       "      <td>20</td>\n",
       "      <td>10</td>\n",
       "      <td>25</td>\n",
       "      <td>429</td>\n",
       "      <td>&gt; 100%</td>\n",
       "    </tr>\n",
       "    <tr>\n",
       "      <th>1215</th>\n",
       "      <td>State</td>\n",
       "      <td>Vermont</td>\n",
       "      <td>All</td>\n",
       "      <td>2023-24</td>\n",
       "      <td>40</td>\n",
       "      <td>NaN</td>\n",
       "      <td>6.8</td>\n",
       "      <td>8.3</td>\n",
       "      <td>0</td>\n",
       "      <td>9</td>\n",
       "      <td>4</td>\n",
       "      <td>11</td>\n",
       "      <td>133</td>\n",
       "      <td>&gt; 100%</td>\n",
       "    </tr>\n",
       "    <tr>\n",
       "      <th>1242</th>\n",
       "      <td>State</td>\n",
       "      <td>Virginia</td>\n",
       "      <td>All</td>\n",
       "      <td>2023-24</td>\n",
       "      <td>40</td>\n",
       "      <td>NaN</td>\n",
       "      <td>4.5</td>\n",
       "      <td>6.2</td>\n",
       "      <td>0</td>\n",
       "      <td>65</td>\n",
       "      <td>38</td>\n",
       "      <td>90</td>\n",
       "      <td>1,449</td>\n",
       "      <td>&gt; 100%</td>\n",
       "    </tr>\n",
       "    <tr>\n",
       "      <th>1269</th>\n",
       "      <td>State</td>\n",
       "      <td>Washington</td>\n",
       "      <td>All</td>\n",
       "      <td>2023-24</td>\n",
       "      <td>40</td>\n",
       "      <td>NaN</td>\n",
       "      <td>6.0</td>\n",
       "      <td>7.4</td>\n",
       "      <td>1</td>\n",
       "      <td>75</td>\n",
       "      <td>31</td>\n",
       "      <td>94</td>\n",
       "      <td>1,273</td>\n",
       "      <td>&gt; 100%</td>\n",
       "    </tr>\n",
       "    <tr>\n",
       "      <th>1296</th>\n",
       "      <td>State</td>\n",
       "      <td>West Virginia</td>\n",
       "      <td>All</td>\n",
       "      <td>2023-24</td>\n",
       "      <td>40</td>\n",
       "      <td>NaN</td>\n",
       "      <td>7.6</td>\n",
       "      <td>8.0</td>\n",
       "      <td>0</td>\n",
       "      <td>34</td>\n",
       "      <td>6</td>\n",
       "      <td>36</td>\n",
       "      <td>449</td>\n",
       "      <td>&gt; 100%</td>\n",
       "    </tr>\n",
       "    <tr>\n",
       "      <th>1323</th>\n",
       "      <td>State</td>\n",
       "      <td>Wisconsin</td>\n",
       "      <td>All</td>\n",
       "      <td>2023-24</td>\n",
       "      <td>40</td>\n",
       "      <td>NaN</td>\n",
       "      <td>4.5</td>\n",
       "      <td>5.8</td>\n",
       "      <td>0</td>\n",
       "      <td>47</td>\n",
       "      <td>19</td>\n",
       "      <td>61</td>\n",
       "      <td>1,045</td>\n",
       "      <td>&gt; 100%</td>\n",
       "    </tr>\n",
       "    <tr>\n",
       "      <th>1350</th>\n",
       "      <td>State</td>\n",
       "      <td>Wyoming</td>\n",
       "      <td>All</td>\n",
       "      <td>2023-24</td>\n",
       "      <td>40</td>\n",
       "      <td>NaN</td>\n",
       "      <td>4.0</td>\n",
       "      <td>5.0</td>\n",
       "      <td>0</td>\n",
       "      <td>4</td>\n",
       "      <td>3</td>\n",
       "      <td>5</td>\n",
       "      <td>100</td>\n",
       "      <td>&gt; 100%</td>\n",
       "    </tr>\n",
       "    <tr>\n",
       "      <th>1377</th>\n",
       "      <td>State</td>\n",
       "      <td>New York City</td>\n",
       "      <td>All</td>\n",
       "      <td>2023-24</td>\n",
       "      <td>40</td>\n",
       "      <td>NaN</td>\n",
       "      <td>7.3</td>\n",
       "      <td>9.2</td>\n",
       "      <td>0</td>\n",
       "      <td>78</td>\n",
       "      <td>25</td>\n",
       "      <td>98</td>\n",
       "      <td>1,067</td>\n",
       "      <td>&gt; 100%</td>\n",
       "    </tr>\n",
       "  </tbody>\n",
       "</table>\n",
       "</div>"
      ],
      "text/plain": [
       "       AREA              SUB AREA AGE GROUP   SEASON  WEEK  PERCENT I  \\\n",
       "0     State               Alabama       All  2023-24    40        NaN   \n",
       "27    State                Alaska       All  2023-24    40        NaN   \n",
       "54    State               Arizona       All  2023-24    40        NaN   \n",
       "81    State              Arkansas       All  2023-24    40        NaN   \n",
       "108   State            California       All  2023-24    40        NaN   \n",
       "135   State              Colorado       All  2023-24    40        NaN   \n",
       "162   State           Connecticut       All  2023-24    40        NaN   \n",
       "189   State              Delaware       All  2023-24    40        NaN   \n",
       "216   State  District of Columbia       All  2023-24    40        NaN   \n",
       "243   State               Florida       All  2023-24    40        NaN   \n",
       "270   State               Georgia       All  2023-24    40        NaN   \n",
       "297   State                Hawaii       All  2023-24    40        NaN   \n",
       "324   State                 Idaho       All  2023-24    40        NaN   \n",
       "351   State              Illinois       All  2023-24    40        NaN   \n",
       "378   State               Indiana       All  2023-24    40        NaN   \n",
       "405   State                  Iowa       All  2023-24    40        NaN   \n",
       "432   State                Kansas       All  2023-24    40        NaN   \n",
       "459   State              Kentucky       All  2023-24    40        NaN   \n",
       "486   State             Louisiana       All  2023-24    40        NaN   \n",
       "513   State                 Maine       All  2023-24    40        NaN   \n",
       "540   State              Maryland       All  2023-24    40        NaN   \n",
       "567   State         Massachusetts       All  2023-24    40        NaN   \n",
       "594   State              Michigan       All  2023-24    40        NaN   \n",
       "621   State             Minnesota       All  2023-24    40        NaN   \n",
       "648   State           Mississippi       All  2023-24    40        NaN   \n",
       "675   State              Missouri       All  2023-24    40        NaN   \n",
       "702   State               Montana       All  2023-24    40        NaN   \n",
       "729   State              Nebraska       All  2023-24    40        NaN   \n",
       "756   State                Nevada       All  2023-24    40        NaN   \n",
       "783   State         New Hampshire       All  2023-24    40        NaN   \n",
       "810   State            New Jersey       All  2023-24    40        NaN   \n",
       "837   State            New Mexico       All  2023-24    40        NaN   \n",
       "864   State              New York       All  2023-24    40        NaN   \n",
       "891   State        North Carolina       All  2023-24    40        NaN   \n",
       "918   State          North Dakota       All  2023-24    40        NaN   \n",
       "945   State                  Ohio       All  2023-24    40        NaN   \n",
       "972   State              Oklahoma       All  2023-24    40        NaN   \n",
       "999   State                Oregon       All  2023-24    40        NaN   \n",
       "1026  State          Pennsylvania       All  2023-24    40        NaN   \n",
       "1053  State          Rhode Island       All  2023-24    40        NaN   \n",
       "1080  State        South Carolina       All  2023-24    40        NaN   \n",
       "1107  State          South Dakota       All  2023-24    40        NaN   \n",
       "1134  State             Tennessee       All  2023-24    40        NaN   \n",
       "1161  State                 Texas       All  2023-24    40        NaN   \n",
       "1188  State                  Utah       All  2023-24    40        NaN   \n",
       "1215  State               Vermont       All  2023-24    40        NaN   \n",
       "1242  State              Virginia       All  2023-24    40        NaN   \n",
       "1269  State            Washington       All  2023-24    40        NaN   \n",
       "1296  State         West Virginia       All  2023-24    40        NaN   \n",
       "1323  State             Wisconsin       All  2023-24    40        NaN   \n",
       "1350  State               Wyoming       All  2023-24    40        NaN   \n",
       "1377  State         New York City       All  2023-24    40        NaN   \n",
       "\n",
       "      PERCENT P&I  PERCENT PIC  NUM INFLUENZA DEATHS NUM PNEUMONIA DEATHS  \\\n",
       "0             4.6          5.9                     0                   48   \n",
       "27            4.6          7.3                     1                    4   \n",
       "54            5.3          6.7                     1                   67   \n",
       "81            6.8          7.9                     0                   47   \n",
       "108           6.5          7.6                     1                  354   \n",
       "135           5.4          7.0                     2                   43   \n",
       "162           6.0          8.5                     0                   38   \n",
       "189           6.2          8.5                     0                   13   \n",
       "216           7.9         10.1                     0                    7   \n",
       "243           6.6          7.7                     2                  276   \n",
       "270           5.5          6.7                     2                   96   \n",
       "297           4.8          7.0                     0                   11   \n",
       "324           4.8          5.1                     0                   15   \n",
       "351           5.6          6.5                     0                  115   \n",
       "378           5.8          7.8                     0                   77   \n",
       "405           5.1          6.1                     0                   30   \n",
       "432           3.5          4.8                     0                   19   \n",
       "459           7.7          9.5                     1                   72   \n",
       "486           4.0          5.1                     0                   37   \n",
       "513           5.5          8.4                     0                   17   \n",
       "540           6.5          8.1                     0                   66   \n",
       "567           6.1          8.3                     2                   71   \n",
       "594           4.2          5.3                     1                   81   \n",
       "621           4.5          6.5                     0                   41   \n",
       "648           7.6          9.9                     1                   54   \n",
       "675           5.0          6.0                     2                   59   \n",
       "702           5.9          8.0                     1                   13   \n",
       "729           4.1          5.4                     0                   13   \n",
       "756           5.8          7.4                     0                   28   \n",
       "783           2.7          5.8                     0                    8   \n",
       "810           4.2          5.7                     2                   60   \n",
       "837           8.0         10.7                     0                   33   \n",
       "864           8.0         10.7                     1                  166   \n",
       "891           6.9          8.8                     1                  138   \n",
       "918           6.8          8.3                     0                    9   \n",
       "945           4.8          6.8                     0                  118   \n",
       "972           9.0         10.7                     2                   71   \n",
       "999           5.1          7.0                     1                   42   \n",
       "1026          4.9          6.5                     1                  132   \n",
       "1053          6.4          9.1                     0                   14   \n",
       "1080          5.3          6.3                     0                   57   \n",
       "1107          6.1          8.5                     0                   10   \n",
       "1134          5.8          7.2                     1                   83   \n",
       "1161          5.7          6.8                     1                  239   \n",
       "1188          4.7          5.8                     0                   20   \n",
       "1215          6.8          8.3                     0                    9   \n",
       "1242          4.5          6.2                     0                   65   \n",
       "1269          6.0          7.4                     1                   75   \n",
       "1296          7.6          8.0                     0                   34   \n",
       "1323          4.5          5.8                     0                   47   \n",
       "1350          4.0          5.0                     0                    4   \n",
       "1377          7.3          9.2                     0                   78   \n",
       "\n",
       "     NUM COVID-19 DEATHS TOTAL PIC TOTAL DEATHS PERCENT COMPLETE  \n",
       "0                     21        62        1,050           > 100%  \n",
       "27                     3         8          109           > 100%  \n",
       "54                    27        87        1,295           > 100%  \n",
       "81                    17        55          694           > 100%  \n",
       "108                  119       414        5,454           > 100%  \n",
       "135                   16        58          833           > 100%  \n",
       "162                   22        54          635           > 100%  \n",
       "189                    8        18          211           > 100%  \n",
       "216                    2         9           89           > 100%  \n",
       "243                  103       322        4,209           > 100%  \n",
       "270                   42       119        1,770           > 100%  \n",
       "297                    6        16          228           > 100%  \n",
       "324                    3        16          314           > 100%  \n",
       "351                   37       133        2,062           > 100%  \n",
       "378                   38       104        1,329           > 100%  \n",
       "405                   11        36          588           > 100%  \n",
       "432                    7        26          539           > 100%  \n",
       "459                   28        91          953           > 100%  \n",
       "486                   12        47          919           > 100%  \n",
       "513                   10        26          309           > 100%  \n",
       "540                   24        82        1,015           > 100%  \n",
       "567                   34        99        1,189           > 100%  \n",
       "594                   36       103        1,941           > 100%  \n",
       "621                   29        59          909           > 100%  \n",
       "648                   30        72          725           > 100%  \n",
       "675                   28        74        1,226           > 100%  \n",
       "702                    6        19          238           > 100%  \n",
       "729                    5        17          315           > 100%  \n",
       "756                   13        36          485           > 100%  \n",
       "783                   10        17          292           > 100%  \n",
       "810                   32        85        1,486           > 100%  \n",
       "837                   14        44          411           > 100%  \n",
       "864                   82       223        2,076           > 100%  \n",
       "891                   59       176        2,001           > 100%  \n",
       "918                    4        11          133           > 100%  \n",
       "945                   75       168        2,478           > 100%  \n",
       "972                   20        87          810           > 100%  \n",
       "999                   22        59          845           > 100%  \n",
       "1026                  65       177        2,734           > 100%  \n",
       "1053                   9        20          219           > 100%  \n",
       "1080                  17        68        1,074           > 100%  \n",
       "1107                   5        14          165           > 100%  \n",
       "1134                  27       104        1,442           > 100%  \n",
       "1161                  83       288        4,227           > 100%  \n",
       "1188                  10        25          429           > 100%  \n",
       "1215                   4        11          133           > 100%  \n",
       "1242                  38        90        1,449           > 100%  \n",
       "1269                  31        94        1,273           > 100%  \n",
       "1296                   6        36          449           > 100%  \n",
       "1323                  19        61        1,045           > 100%  \n",
       "1350                   3         5          100           > 100%  \n",
       "1377                  25        98        1,067           > 100%  "
      ]
     },
     "execution_count": 25,
     "metadata": {},
     "output_type": "execute_result"
    }
   ],
   "source": [
    "starter_df_states = starter_df.drop_duplicates(subset=['SUB AREA'])\n",
    "starter_df_states"
   ]
  },
  {
   "cell_type": "code",
   "execution_count": 26,
   "id": "24b564a6-f93a-4f55-821f-285082491121",
   "metadata": {},
   "outputs": [
    {
     "data": {
      "text/plain": [
       "['Alabama',\n",
       " 'Alaska',\n",
       " 'Arizona',\n",
       " 'Arkansas',\n",
       " 'California',\n",
       " 'Colorado',\n",
       " 'Connecticut',\n",
       " 'Delaware',\n",
       " 'District of Columbia',\n",
       " 'Florida',\n",
       " 'Georgia',\n",
       " 'Hawaii',\n",
       " 'Idaho',\n",
       " 'Illinois',\n",
       " 'Indiana',\n",
       " 'Iowa',\n",
       " 'Kansas',\n",
       " 'Kentucky',\n",
       " 'Louisiana',\n",
       " 'Maine',\n",
       " 'Maryland',\n",
       " 'Massachusetts',\n",
       " 'Michigan',\n",
       " 'Minnesota',\n",
       " 'Mississippi',\n",
       " 'Missouri',\n",
       " 'Montana',\n",
       " 'Nebraska',\n",
       " 'Nevada',\n",
       " 'New Hampshire',\n",
       " 'New Jersey',\n",
       " 'New Mexico',\n",
       " 'New York',\n",
       " 'North Carolina',\n",
       " 'North Dakota',\n",
       " 'Ohio',\n",
       " 'Oklahoma',\n",
       " 'Oregon',\n",
       " 'Pennsylvania',\n",
       " 'Rhode Island',\n",
       " 'South Carolina',\n",
       " 'South Dakota',\n",
       " 'Tennessee',\n",
       " 'Texas',\n",
       " 'Utah',\n",
       " 'Vermont',\n",
       " 'Virginia',\n",
       " 'Washington',\n",
       " 'West Virginia',\n",
       " 'Wisconsin',\n",
       " 'Wyoming',\n",
       " 'New York City']"
      ]
     },
     "execution_count": 26,
     "metadata": {},
     "output_type": "execute_result"
    }
   ],
   "source": [
    "states = starter_df_states['SUB AREA'].tolist()\n",
    "states"
   ]
  },
  {
   "cell_type": "code",
   "execution_count": 27,
   "id": "0c993405-2108-4656-aa17-6e0ce68d32c5",
   "metadata": {},
   "outputs": [
    {
     "data": {
      "text/plain": [
       "{'States': ['Alabama',\n",
       "  'Alaska',\n",
       "  'Arizona',\n",
       "  'Arkansas',\n",
       "  'California',\n",
       "  'Colorado',\n",
       "  'Connecticut',\n",
       "  'Delaware',\n",
       "  'District of Columbia',\n",
       "  'Florida',\n",
       "  'Georgia',\n",
       "  'Hawaii',\n",
       "  'Idaho',\n",
       "  'Illinois',\n",
       "  'Indiana',\n",
       "  'Iowa',\n",
       "  'Kansas',\n",
       "  'Kentucky',\n",
       "  'Louisiana',\n",
       "  'Maine',\n",
       "  'Maryland',\n",
       "  'Massachusetts',\n",
       "  'Michigan',\n",
       "  'Minnesota',\n",
       "  'Mississippi',\n",
       "  'Missouri',\n",
       "  'Montana',\n",
       "  'Nebraska',\n",
       "  'Nevada',\n",
       "  'New Hampshire',\n",
       "  'New Jersey',\n",
       "  'New Mexico',\n",
       "  'New York',\n",
       "  'North Carolina',\n",
       "  'North Dakota',\n",
       "  'Ohio',\n",
       "  'Oklahoma',\n",
       "  'Oregon',\n",
       "  'Pennsylvania',\n",
       "  'Rhode Island',\n",
       "  'South Carolina',\n",
       "  'South Dakota',\n",
       "  'Tennessee',\n",
       "  'Texas',\n",
       "  'Utah',\n",
       "  'Vermont',\n",
       "  'Virginia',\n",
       "  'Washington',\n",
       "  'West Virginia',\n",
       "  'Wisconsin',\n",
       "  'Wyoming',\n",
       "  'New York City'],\n",
       " 'Influenza Deaths': [164,\n",
       "  24,\n",
       "  155,\n",
       "  101,\n",
       "  604,\n",
       "  143,\n",
       "  92,\n",
       "  37,\n",
       "  5,\n",
       "  554,\n",
       "  288,\n",
       "  19,\n",
       "  43,\n",
       "  228,\n",
       "  191,\n",
       "  121,\n",
       "  51,\n",
       "  181,\n",
       "  146,\n",
       "  50,\n",
       "  130,\n",
       "  205,\n",
       "  274,\n",
       "  150,\n",
       "  122,\n",
       "  146,\n",
       "  75,\n",
       "  58,\n",
       "  82,\n",
       "  48,\n",
       "  181,\n",
       "  69,\n",
       "  324,\n",
       "  214,\n",
       "  421,\n",
       "  34,\n",
       "  296,\n",
       "  152,\n",
       "  68,\n",
       "  421,\n",
       "  47,\n",
       "  223,\n",
       "  45,\n",
       "  249,\n",
       "  639,\n",
       "  62,\n",
       "  24,\n",
       "  222,\n",
       "  140,\n",
       "  91,\n",
       "  138,\n",
       "  29]}"
      ]
     },
     "execution_count": 27,
     "metadata": {},
     "output_type": "execute_result"
    }
   ],
   "source": [
    "data_dict = {'States': states, 'Influenza Deaths': influenzadeathsbystate}\n",
    "data_dict"
   ]
  },
  {
   "cell_type": "code",
   "execution_count": 28,
   "id": "23173401-d8e8-4461-a40d-f84bfb812c8b",
   "metadata": {},
   "outputs": [
    {
     "data": {
      "text/html": [
       "<div>\n",
       "<style scoped>\n",
       "    .dataframe tbody tr th:only-of-type {\n",
       "        vertical-align: middle;\n",
       "    }\n",
       "\n",
       "    .dataframe tbody tr th {\n",
       "        vertical-align: top;\n",
       "    }\n",
       "\n",
       "    .dataframe thead th {\n",
       "        text-align: right;\n",
       "    }\n",
       "</style>\n",
       "<table border=\"1\" class=\"dataframe\">\n",
       "  <thead>\n",
       "    <tr style=\"text-align: right;\">\n",
       "      <th></th>\n",
       "      <th>States</th>\n",
       "      <th>Influenza Deaths</th>\n",
       "    </tr>\n",
       "  </thead>\n",
       "  <tbody>\n",
       "    <tr>\n",
       "      <th>0</th>\n",
       "      <td>Alabama</td>\n",
       "      <td>164</td>\n",
       "    </tr>\n",
       "    <tr>\n",
       "      <th>1</th>\n",
       "      <td>Alaska</td>\n",
       "      <td>24</td>\n",
       "    </tr>\n",
       "    <tr>\n",
       "      <th>2</th>\n",
       "      <td>Arizona</td>\n",
       "      <td>155</td>\n",
       "    </tr>\n",
       "    <tr>\n",
       "      <th>3</th>\n",
       "      <td>Arkansas</td>\n",
       "      <td>101</td>\n",
       "    </tr>\n",
       "    <tr>\n",
       "      <th>4</th>\n",
       "      <td>California</td>\n",
       "      <td>604</td>\n",
       "    </tr>\n",
       "    <tr>\n",
       "      <th>5</th>\n",
       "      <td>Colorado</td>\n",
       "      <td>143</td>\n",
       "    </tr>\n",
       "    <tr>\n",
       "      <th>6</th>\n",
       "      <td>Connecticut</td>\n",
       "      <td>92</td>\n",
       "    </tr>\n",
       "    <tr>\n",
       "      <th>7</th>\n",
       "      <td>Delaware</td>\n",
       "      <td>37</td>\n",
       "    </tr>\n",
       "    <tr>\n",
       "      <th>8</th>\n",
       "      <td>District of Columbia</td>\n",
       "      <td>5</td>\n",
       "    </tr>\n",
       "    <tr>\n",
       "      <th>9</th>\n",
       "      <td>Florida</td>\n",
       "      <td>554</td>\n",
       "    </tr>\n",
       "    <tr>\n",
       "      <th>10</th>\n",
       "      <td>Georgia</td>\n",
       "      <td>288</td>\n",
       "    </tr>\n",
       "    <tr>\n",
       "      <th>11</th>\n",
       "      <td>Hawaii</td>\n",
       "      <td>19</td>\n",
       "    </tr>\n",
       "    <tr>\n",
       "      <th>12</th>\n",
       "      <td>Idaho</td>\n",
       "      <td>43</td>\n",
       "    </tr>\n",
       "    <tr>\n",
       "      <th>13</th>\n",
       "      <td>Illinois</td>\n",
       "      <td>228</td>\n",
       "    </tr>\n",
       "    <tr>\n",
       "      <th>14</th>\n",
       "      <td>Indiana</td>\n",
       "      <td>191</td>\n",
       "    </tr>\n",
       "    <tr>\n",
       "      <th>15</th>\n",
       "      <td>Iowa</td>\n",
       "      <td>121</td>\n",
       "    </tr>\n",
       "    <tr>\n",
       "      <th>16</th>\n",
       "      <td>Kansas</td>\n",
       "      <td>51</td>\n",
       "    </tr>\n",
       "    <tr>\n",
       "      <th>17</th>\n",
       "      <td>Kentucky</td>\n",
       "      <td>181</td>\n",
       "    </tr>\n",
       "    <tr>\n",
       "      <th>18</th>\n",
       "      <td>Louisiana</td>\n",
       "      <td>146</td>\n",
       "    </tr>\n",
       "    <tr>\n",
       "      <th>19</th>\n",
       "      <td>Maine</td>\n",
       "      <td>50</td>\n",
       "    </tr>\n",
       "    <tr>\n",
       "      <th>20</th>\n",
       "      <td>Maryland</td>\n",
       "      <td>130</td>\n",
       "    </tr>\n",
       "    <tr>\n",
       "      <th>21</th>\n",
       "      <td>Massachusetts</td>\n",
       "      <td>205</td>\n",
       "    </tr>\n",
       "    <tr>\n",
       "      <th>22</th>\n",
       "      <td>Michigan</td>\n",
       "      <td>274</td>\n",
       "    </tr>\n",
       "    <tr>\n",
       "      <th>23</th>\n",
       "      <td>Minnesota</td>\n",
       "      <td>150</td>\n",
       "    </tr>\n",
       "    <tr>\n",
       "      <th>24</th>\n",
       "      <td>Mississippi</td>\n",
       "      <td>122</td>\n",
       "    </tr>\n",
       "    <tr>\n",
       "      <th>25</th>\n",
       "      <td>Missouri</td>\n",
       "      <td>146</td>\n",
       "    </tr>\n",
       "    <tr>\n",
       "      <th>26</th>\n",
       "      <td>Montana</td>\n",
       "      <td>75</td>\n",
       "    </tr>\n",
       "    <tr>\n",
       "      <th>27</th>\n",
       "      <td>Nebraska</td>\n",
       "      <td>58</td>\n",
       "    </tr>\n",
       "    <tr>\n",
       "      <th>28</th>\n",
       "      <td>Nevada</td>\n",
       "      <td>82</td>\n",
       "    </tr>\n",
       "    <tr>\n",
       "      <th>29</th>\n",
       "      <td>New Hampshire</td>\n",
       "      <td>48</td>\n",
       "    </tr>\n",
       "    <tr>\n",
       "      <th>30</th>\n",
       "      <td>New Jersey</td>\n",
       "      <td>181</td>\n",
       "    </tr>\n",
       "    <tr>\n",
       "      <th>31</th>\n",
       "      <td>New Mexico</td>\n",
       "      <td>69</td>\n",
       "    </tr>\n",
       "    <tr>\n",
       "      <th>32</th>\n",
       "      <td>New York</td>\n",
       "      <td>324</td>\n",
       "    </tr>\n",
       "    <tr>\n",
       "      <th>33</th>\n",
       "      <td>North Carolina</td>\n",
       "      <td>214</td>\n",
       "    </tr>\n",
       "    <tr>\n",
       "      <th>34</th>\n",
       "      <td>North Dakota</td>\n",
       "      <td>421</td>\n",
       "    </tr>\n",
       "    <tr>\n",
       "      <th>35</th>\n",
       "      <td>Ohio</td>\n",
       "      <td>34</td>\n",
       "    </tr>\n",
       "    <tr>\n",
       "      <th>36</th>\n",
       "      <td>Oklahoma</td>\n",
       "      <td>296</td>\n",
       "    </tr>\n",
       "    <tr>\n",
       "      <th>37</th>\n",
       "      <td>Oregon</td>\n",
       "      <td>152</td>\n",
       "    </tr>\n",
       "    <tr>\n",
       "      <th>38</th>\n",
       "      <td>Pennsylvania</td>\n",
       "      <td>68</td>\n",
       "    </tr>\n",
       "    <tr>\n",
       "      <th>39</th>\n",
       "      <td>Rhode Island</td>\n",
       "      <td>421</td>\n",
       "    </tr>\n",
       "    <tr>\n",
       "      <th>40</th>\n",
       "      <td>South Carolina</td>\n",
       "      <td>47</td>\n",
       "    </tr>\n",
       "    <tr>\n",
       "      <th>41</th>\n",
       "      <td>South Dakota</td>\n",
       "      <td>223</td>\n",
       "    </tr>\n",
       "    <tr>\n",
       "      <th>42</th>\n",
       "      <td>Tennessee</td>\n",
       "      <td>45</td>\n",
       "    </tr>\n",
       "    <tr>\n",
       "      <th>43</th>\n",
       "      <td>Texas</td>\n",
       "      <td>249</td>\n",
       "    </tr>\n",
       "    <tr>\n",
       "      <th>44</th>\n",
       "      <td>Utah</td>\n",
       "      <td>639</td>\n",
       "    </tr>\n",
       "    <tr>\n",
       "      <th>45</th>\n",
       "      <td>Vermont</td>\n",
       "      <td>62</td>\n",
       "    </tr>\n",
       "    <tr>\n",
       "      <th>46</th>\n",
       "      <td>Virginia</td>\n",
       "      <td>24</td>\n",
       "    </tr>\n",
       "    <tr>\n",
       "      <th>47</th>\n",
       "      <td>Washington</td>\n",
       "      <td>222</td>\n",
       "    </tr>\n",
       "    <tr>\n",
       "      <th>48</th>\n",
       "      <td>West Virginia</td>\n",
       "      <td>140</td>\n",
       "    </tr>\n",
       "    <tr>\n",
       "      <th>49</th>\n",
       "      <td>Wisconsin</td>\n",
       "      <td>91</td>\n",
       "    </tr>\n",
       "    <tr>\n",
       "      <th>50</th>\n",
       "      <td>Wyoming</td>\n",
       "      <td>138</td>\n",
       "    </tr>\n",
       "    <tr>\n",
       "      <th>51</th>\n",
       "      <td>New York City</td>\n",
       "      <td>29</td>\n",
       "    </tr>\n",
       "  </tbody>\n",
       "</table>\n",
       "</div>"
      ],
      "text/plain": [
       "                  States  Influenza Deaths\n",
       "0                Alabama               164\n",
       "1                 Alaska                24\n",
       "2                Arizona               155\n",
       "3               Arkansas               101\n",
       "4             California               604\n",
       "5               Colorado               143\n",
       "6            Connecticut                92\n",
       "7               Delaware                37\n",
       "8   District of Columbia                 5\n",
       "9                Florida               554\n",
       "10               Georgia               288\n",
       "11                Hawaii                19\n",
       "12                 Idaho                43\n",
       "13              Illinois               228\n",
       "14               Indiana               191\n",
       "15                  Iowa               121\n",
       "16                Kansas                51\n",
       "17              Kentucky               181\n",
       "18             Louisiana               146\n",
       "19                 Maine                50\n",
       "20              Maryland               130\n",
       "21         Massachusetts               205\n",
       "22              Michigan               274\n",
       "23             Minnesota               150\n",
       "24           Mississippi               122\n",
       "25              Missouri               146\n",
       "26               Montana                75\n",
       "27              Nebraska                58\n",
       "28                Nevada                82\n",
       "29         New Hampshire                48\n",
       "30            New Jersey               181\n",
       "31            New Mexico                69\n",
       "32              New York               324\n",
       "33        North Carolina               214\n",
       "34          North Dakota               421\n",
       "35                  Ohio                34\n",
       "36              Oklahoma               296\n",
       "37                Oregon               152\n",
       "38          Pennsylvania                68\n",
       "39          Rhode Island               421\n",
       "40        South Carolina                47\n",
       "41          South Dakota               223\n",
       "42             Tennessee                45\n",
       "43                 Texas               249\n",
       "44                  Utah               639\n",
       "45               Vermont                62\n",
       "46              Virginia                24\n",
       "47            Washington               222\n",
       "48         West Virginia               140\n",
       "49             Wisconsin                91\n",
       "50               Wyoming               138\n",
       "51         New York City                29"
      ]
     },
     "execution_count": 28,
     "metadata": {},
     "output_type": "execute_result"
    }
   ],
   "source": [
    "influenza_deaths_df = pd.DataFrame(data_dict)\n",
    "influenza_deaths_df"
   ]
  },
  {
   "cell_type": "code",
   "execution_count": 29,
   "id": "c89776fc-6f04-4f2b-beac-1100f342fab9",
   "metadata": {},
   "outputs": [],
   "source": [
    "influenza_deaths_df.to_csv('Cleaned Data/influenza_deaths.csv', index=False)"
   ]
  },
  {
   "cell_type": "code",
   "execution_count": 30,
   "id": "cd6c1d27-8b59-45b4-9219-75c3f48f740b",
   "metadata": {},
   "outputs": [],
   "source": [
    "import matplotlib.pyplot as plt"
   ]
  },
  {
   "cell_type": "code",
   "execution_count": 34,
   "id": "77f42d03-0ce8-485e-9b44-2b432d42f2a3",
   "metadata": {},
   "outputs": [
    {
     "data": {
      "application/vnd.plotly.v1+json": {
       "config": {
        "plotlyServerURL": "https://plot.ly"
       },
       "data": [
        {
         "alignmentgroup": "True",
         "hovertemplate": "States=%{x}<br>Influenza Deaths=%{y}<extra></extra>",
         "legendgroup": "",
         "marker": {
          "color": "#636efa",
          "pattern": {
           "shape": ""
          }
         },
         "name": "",
         "offsetgroup": "",
         "orientation": "v",
         "showlegend": false,
         "textposition": "auto",
         "type": "bar",
         "x": [
          "Alabama",
          "Alaska",
          "Arizona",
          "Arkansas",
          "California",
          "Colorado",
          "Connecticut",
          "Delaware",
          "District of Columbia",
          "Florida",
          "Georgia",
          "Hawaii",
          "Idaho",
          "Illinois",
          "Indiana",
          "Iowa",
          "Kansas",
          "Kentucky",
          "Louisiana",
          "Maine",
          "Maryland",
          "Massachusetts",
          "Michigan",
          "Minnesota",
          "Mississippi",
          "Missouri",
          "Montana",
          "Nebraska",
          "Nevada",
          "New Hampshire",
          "New Jersey",
          "New Mexico",
          "New York",
          "North Carolina",
          "North Dakota",
          "Ohio",
          "Oklahoma",
          "Oregon",
          "Pennsylvania",
          "Rhode Island",
          "South Carolina",
          "South Dakota",
          "Tennessee",
          "Texas",
          "Utah",
          "Vermont",
          "Virginia",
          "Washington",
          "West Virginia",
          "Wisconsin",
          "Wyoming",
          "New York City"
         ],
         "xaxis": "x",
         "y": [
          164,
          24,
          155,
          101,
          604,
          143,
          92,
          37,
          5,
          554,
          288,
          19,
          43,
          228,
          191,
          121,
          51,
          181,
          146,
          50,
          130,
          205,
          274,
          150,
          122,
          146,
          75,
          58,
          82,
          48,
          181,
          69,
          324,
          214,
          421,
          34,
          296,
          152,
          68,
          421,
          47,
          223,
          45,
          249,
          639,
          62,
          24,
          222,
          140,
          91,
          138,
          29
         ],
         "yaxis": "y"
        }
       ],
       "layout": {
        "autosize": true,
        "barmode": "relative",
        "dragmode": "pan",
        "legend": {
         "tracegroupgap": 0
        },
        "template": {
         "data": {
          "bar": [
           {
            "error_x": {
             "color": "#2a3f5f"
            },
            "error_y": {
             "color": "#2a3f5f"
            },
            "marker": {
             "line": {
              "color": "#E5ECF6",
              "width": 0.5
             },
             "pattern": {
              "fillmode": "overlay",
              "size": 10,
              "solidity": 0.2
             }
            },
            "type": "bar"
           }
          ],
          "barpolar": [
           {
            "marker": {
             "line": {
              "color": "#E5ECF6",
              "width": 0.5
             },
             "pattern": {
              "fillmode": "overlay",
              "size": 10,
              "solidity": 0.2
             }
            },
            "type": "barpolar"
           }
          ],
          "carpet": [
           {
            "aaxis": {
             "endlinecolor": "#2a3f5f",
             "gridcolor": "white",
             "linecolor": "white",
             "minorgridcolor": "white",
             "startlinecolor": "#2a3f5f"
            },
            "baxis": {
             "endlinecolor": "#2a3f5f",
             "gridcolor": "white",
             "linecolor": "white",
             "minorgridcolor": "white",
             "startlinecolor": "#2a3f5f"
            },
            "type": "carpet"
           }
          ],
          "choropleth": [
           {
            "colorbar": {
             "outlinewidth": 0,
             "ticks": ""
            },
            "type": "choropleth"
           }
          ],
          "contour": [
           {
            "colorbar": {
             "outlinewidth": 0,
             "ticks": ""
            },
            "colorscale": [
             [
              0,
              "#0d0887"
             ],
             [
              0.1111111111111111,
              "#46039f"
             ],
             [
              0.2222222222222222,
              "#7201a8"
             ],
             [
              0.3333333333333333,
              "#9c179e"
             ],
             [
              0.4444444444444444,
              "#bd3786"
             ],
             [
              0.5555555555555556,
              "#d8576b"
             ],
             [
              0.6666666666666666,
              "#ed7953"
             ],
             [
              0.7777777777777778,
              "#fb9f3a"
             ],
             [
              0.8888888888888888,
              "#fdca26"
             ],
             [
              1,
              "#f0f921"
             ]
            ],
            "type": "contour"
           }
          ],
          "contourcarpet": [
           {
            "colorbar": {
             "outlinewidth": 0,
             "ticks": ""
            },
            "type": "contourcarpet"
           }
          ],
          "heatmap": [
           {
            "colorbar": {
             "outlinewidth": 0,
             "ticks": ""
            },
            "colorscale": [
             [
              0,
              "#0d0887"
             ],
             [
              0.1111111111111111,
              "#46039f"
             ],
             [
              0.2222222222222222,
              "#7201a8"
             ],
             [
              0.3333333333333333,
              "#9c179e"
             ],
             [
              0.4444444444444444,
              "#bd3786"
             ],
             [
              0.5555555555555556,
              "#d8576b"
             ],
             [
              0.6666666666666666,
              "#ed7953"
             ],
             [
              0.7777777777777778,
              "#fb9f3a"
             ],
             [
              0.8888888888888888,
              "#fdca26"
             ],
             [
              1,
              "#f0f921"
             ]
            ],
            "type": "heatmap"
           }
          ],
          "heatmapgl": [
           {
            "colorbar": {
             "outlinewidth": 0,
             "ticks": ""
            },
            "colorscale": [
             [
              0,
              "#0d0887"
             ],
             [
              0.1111111111111111,
              "#46039f"
             ],
             [
              0.2222222222222222,
              "#7201a8"
             ],
             [
              0.3333333333333333,
              "#9c179e"
             ],
             [
              0.4444444444444444,
              "#bd3786"
             ],
             [
              0.5555555555555556,
              "#d8576b"
             ],
             [
              0.6666666666666666,
              "#ed7953"
             ],
             [
              0.7777777777777778,
              "#fb9f3a"
             ],
             [
              0.8888888888888888,
              "#fdca26"
             ],
             [
              1,
              "#f0f921"
             ]
            ],
            "type": "heatmapgl"
           }
          ],
          "histogram": [
           {
            "marker": {
             "pattern": {
              "fillmode": "overlay",
              "size": 10,
              "solidity": 0.2
             }
            },
            "type": "histogram"
           }
          ],
          "histogram2d": [
           {
            "colorbar": {
             "outlinewidth": 0,
             "ticks": ""
            },
            "colorscale": [
             [
              0,
              "#0d0887"
             ],
             [
              0.1111111111111111,
              "#46039f"
             ],
             [
              0.2222222222222222,
              "#7201a8"
             ],
             [
              0.3333333333333333,
              "#9c179e"
             ],
             [
              0.4444444444444444,
              "#bd3786"
             ],
             [
              0.5555555555555556,
              "#d8576b"
             ],
             [
              0.6666666666666666,
              "#ed7953"
             ],
             [
              0.7777777777777778,
              "#fb9f3a"
             ],
             [
              0.8888888888888888,
              "#fdca26"
             ],
             [
              1,
              "#f0f921"
             ]
            ],
            "type": "histogram2d"
           }
          ],
          "histogram2dcontour": [
           {
            "colorbar": {
             "outlinewidth": 0,
             "ticks": ""
            },
            "colorscale": [
             [
              0,
              "#0d0887"
             ],
             [
              0.1111111111111111,
              "#46039f"
             ],
             [
              0.2222222222222222,
              "#7201a8"
             ],
             [
              0.3333333333333333,
              "#9c179e"
             ],
             [
              0.4444444444444444,
              "#bd3786"
             ],
             [
              0.5555555555555556,
              "#d8576b"
             ],
             [
              0.6666666666666666,
              "#ed7953"
             ],
             [
              0.7777777777777778,
              "#fb9f3a"
             ],
             [
              0.8888888888888888,
              "#fdca26"
             ],
             [
              1,
              "#f0f921"
             ]
            ],
            "type": "histogram2dcontour"
           }
          ],
          "mesh3d": [
           {
            "colorbar": {
             "outlinewidth": 0,
             "ticks": ""
            },
            "type": "mesh3d"
           }
          ],
          "parcoords": [
           {
            "line": {
             "colorbar": {
              "outlinewidth": 0,
              "ticks": ""
             }
            },
            "type": "parcoords"
           }
          ],
          "pie": [
           {
            "automargin": true,
            "type": "pie"
           }
          ],
          "scatter": [
           {
            "fillpattern": {
             "fillmode": "overlay",
             "size": 10,
             "solidity": 0.2
            },
            "type": "scatter"
           }
          ],
          "scatter3d": [
           {
            "line": {
             "colorbar": {
              "outlinewidth": 0,
              "ticks": ""
             }
            },
            "marker": {
             "colorbar": {
              "outlinewidth": 0,
              "ticks": ""
             }
            },
            "type": "scatter3d"
           }
          ],
          "scattercarpet": [
           {
            "marker": {
             "colorbar": {
              "outlinewidth": 0,
              "ticks": ""
             }
            },
            "type": "scattercarpet"
           }
          ],
          "scattergeo": [
           {
            "marker": {
             "colorbar": {
              "outlinewidth": 0,
              "ticks": ""
             }
            },
            "type": "scattergeo"
           }
          ],
          "scattergl": [
           {
            "marker": {
             "colorbar": {
              "outlinewidth": 0,
              "ticks": ""
             }
            },
            "type": "scattergl"
           }
          ],
          "scattermapbox": [
           {
            "marker": {
             "colorbar": {
              "outlinewidth": 0,
              "ticks": ""
             }
            },
            "type": "scattermapbox"
           }
          ],
          "scatterpolar": [
           {
            "marker": {
             "colorbar": {
              "outlinewidth": 0,
              "ticks": ""
             }
            },
            "type": "scatterpolar"
           }
          ],
          "scatterpolargl": [
           {
            "marker": {
             "colorbar": {
              "outlinewidth": 0,
              "ticks": ""
             }
            },
            "type": "scatterpolargl"
           }
          ],
          "scatterternary": [
           {
            "marker": {
             "colorbar": {
              "outlinewidth": 0,
              "ticks": ""
             }
            },
            "type": "scatterternary"
           }
          ],
          "surface": [
           {
            "colorbar": {
             "outlinewidth": 0,
             "ticks": ""
            },
            "colorscale": [
             [
              0,
              "#0d0887"
             ],
             [
              0.1111111111111111,
              "#46039f"
             ],
             [
              0.2222222222222222,
              "#7201a8"
             ],
             [
              0.3333333333333333,
              "#9c179e"
             ],
             [
              0.4444444444444444,
              "#bd3786"
             ],
             [
              0.5555555555555556,
              "#d8576b"
             ],
             [
              0.6666666666666666,
              "#ed7953"
             ],
             [
              0.7777777777777778,
              "#fb9f3a"
             ],
             [
              0.8888888888888888,
              "#fdca26"
             ],
             [
              1,
              "#f0f921"
             ]
            ],
            "type": "surface"
           }
          ],
          "table": [
           {
            "cells": {
             "fill": {
              "color": "#EBF0F8"
             },
             "line": {
              "color": "white"
             }
            },
            "header": {
             "fill": {
              "color": "#C8D4E3"
             },
             "line": {
              "color": "white"
             }
            },
            "type": "table"
           }
          ]
         },
         "layout": {
          "annotationdefaults": {
           "arrowcolor": "#2a3f5f",
           "arrowhead": 0,
           "arrowwidth": 1
          },
          "autotypenumbers": "strict",
          "coloraxis": {
           "colorbar": {
            "outlinewidth": 0,
            "ticks": ""
           }
          },
          "colorscale": {
           "diverging": [
            [
             0,
             "#8e0152"
            ],
            [
             0.1,
             "#c51b7d"
            ],
            [
             0.2,
             "#de77ae"
            ],
            [
             0.3,
             "#f1b6da"
            ],
            [
             0.4,
             "#fde0ef"
            ],
            [
             0.5,
             "#f7f7f7"
            ],
            [
             0.6,
             "#e6f5d0"
            ],
            [
             0.7,
             "#b8e186"
            ],
            [
             0.8,
             "#7fbc41"
            ],
            [
             0.9,
             "#4d9221"
            ],
            [
             1,
             "#276419"
            ]
           ],
           "sequential": [
            [
             0,
             "#0d0887"
            ],
            [
             0.1111111111111111,
             "#46039f"
            ],
            [
             0.2222222222222222,
             "#7201a8"
            ],
            [
             0.3333333333333333,
             "#9c179e"
            ],
            [
             0.4444444444444444,
             "#bd3786"
            ],
            [
             0.5555555555555556,
             "#d8576b"
            ],
            [
             0.6666666666666666,
             "#ed7953"
            ],
            [
             0.7777777777777778,
             "#fb9f3a"
            ],
            [
             0.8888888888888888,
             "#fdca26"
            ],
            [
             1,
             "#f0f921"
            ]
           ],
           "sequentialminus": [
            [
             0,
             "#0d0887"
            ],
            [
             0.1111111111111111,
             "#46039f"
            ],
            [
             0.2222222222222222,
             "#7201a8"
            ],
            [
             0.3333333333333333,
             "#9c179e"
            ],
            [
             0.4444444444444444,
             "#bd3786"
            ],
            [
             0.5555555555555556,
             "#d8576b"
            ],
            [
             0.6666666666666666,
             "#ed7953"
            ],
            [
             0.7777777777777778,
             "#fb9f3a"
            ],
            [
             0.8888888888888888,
             "#fdca26"
            ],
            [
             1,
             "#f0f921"
            ]
           ]
          },
          "colorway": [
           "#636efa",
           "#EF553B",
           "#00cc96",
           "#ab63fa",
           "#FFA15A",
           "#19d3f3",
           "#FF6692",
           "#B6E880",
           "#FF97FF",
           "#FECB52"
          ],
          "font": {
           "color": "#2a3f5f"
          },
          "geo": {
           "bgcolor": "white",
           "lakecolor": "white",
           "landcolor": "#E5ECF6",
           "showlakes": true,
           "showland": true,
           "subunitcolor": "white"
          },
          "hoverlabel": {
           "align": "left"
          },
          "hovermode": "closest",
          "mapbox": {
           "style": "light"
          },
          "paper_bgcolor": "white",
          "plot_bgcolor": "#E5ECF6",
          "polar": {
           "angularaxis": {
            "gridcolor": "white",
            "linecolor": "white",
            "ticks": ""
           },
           "bgcolor": "#E5ECF6",
           "radialaxis": {
            "gridcolor": "white",
            "linecolor": "white",
            "ticks": ""
           }
          },
          "scene": {
           "xaxis": {
            "backgroundcolor": "#E5ECF6",
            "gridcolor": "white",
            "gridwidth": 2,
            "linecolor": "white",
            "showbackground": true,
            "ticks": "",
            "zerolinecolor": "white"
           },
           "yaxis": {
            "backgroundcolor": "#E5ECF6",
            "gridcolor": "white",
            "gridwidth": 2,
            "linecolor": "white",
            "showbackground": true,
            "ticks": "",
            "zerolinecolor": "white"
           },
           "zaxis": {
            "backgroundcolor": "#E5ECF6",
            "gridcolor": "white",
            "gridwidth": 2,
            "linecolor": "white",
            "showbackground": true,
            "ticks": "",
            "zerolinecolor": "white"
           }
          },
          "shapedefaults": {
           "line": {
            "color": "#2a3f5f"
           }
          },
          "ternary": {
           "aaxis": {
            "gridcolor": "white",
            "linecolor": "white",
            "ticks": ""
           },
           "baxis": {
            "gridcolor": "white",
            "linecolor": "white",
            "ticks": ""
           },
           "bgcolor": "#E5ECF6",
           "caxis": {
            "gridcolor": "white",
            "linecolor": "white",
            "ticks": ""
           }
          },
          "title": {
           "x": 0.05
          },
          "xaxis": {
           "automargin": true,
           "gridcolor": "white",
           "linecolor": "white",
           "ticks": "",
           "title": {
            "standoff": 15
           },
           "zerolinecolor": "white",
           "zerolinewidth": 2
          },
          "yaxis": {
           "automargin": true,
           "gridcolor": "white",
           "linecolor": "white",
           "ticks": "",
           "title": {
            "standoff": 15
           },
           "zerolinecolor": "white",
           "zerolinewidth": 2
          }
         }
        },
        "title": {
         "text": "Influenza Deaths per State 2023-2024"
        },
        "xaxis": {
         "anchor": "y",
         "autorange": true,
         "domain": [
          0,
          1
         ],
         "range": [
          -0.5,
          51.5
         ],
         "showspikes": false,
         "title": {
          "text": "States"
         },
         "type": "category"
        },
        "yaxis": {
         "anchor": "x",
         "autorange": true,
         "domain": [
          0,
          1
         ],
         "range": [
          0,
          672.6315789473684
         ],
         "showspikes": false,
         "title": {
          "text": "Influenza Deaths"
         },
         "type": "linear"
        }
       }
      },
      "image/png": "[encoded data removed]",
      "text/html": [
       "<div>                            <div id=\"bf723fc9-1d75-4d2f-a240-ebbb4db49191\" class=\"plotly-graph-div\" style=\"height:525px; width:100%;\"></div>            <script type=\"text/javascript\">                require([\"plotly\"], function(Plotly) {                    window.PLOTLYENV=window.PLOTLYENV || {};                                    if (document.getElementById(\"bf723fc9-1d75-4d2f-a240-ebbb4db49191\")) {                    Plotly.newPlot(                        \"bf723fc9-1d75-4d2f-a240-ebbb4db49191\",                        [{\"alignmentgroup\":\"True\",\"hovertemplate\":\"States=%{x}<br>Influenza Deaths=%{y}<extra></extra>\",\"legendgroup\":\"\",\"marker\":{\"color\":\"#636efa\",\"pattern\":{\"shape\":\"\"}},\"name\":\"\",\"offsetgroup\":\"\",\"orientation\":\"v\",\"showlegend\":false,\"textposition\":\"auto\",\"x\":[\"Alabama\",\"Alaska\",\"Arizona\",\"Arkansas\",\"California\",\"Colorado\",\"Connecticut\",\"Delaware\",\"District of Columbia\",\"Florida\",\"Georgia\",\"Hawaii\",\"Idaho\",\"Illinois\",\"Indiana\",\"Iowa\",\"Kansas\",\"Kentucky\",\"Louisiana\",\"Maine\",\"Maryland\",\"Massachusetts\",\"Michigan\",\"Minnesota\",\"Mississippi\",\"Missouri\",\"Montana\",\"Nebraska\",\"Nevada\",\"New Hampshire\",\"New Jersey\",\"New Mexico\",\"New York\",\"North Carolina\",\"North Dakota\",\"Ohio\",\"Oklahoma\",\"Oregon\",\"Pennsylvania\",\"Rhode Island\",\"South Carolina\",\"South Dakota\",\"Tennessee\",\"Texas\",\"Utah\",\"Vermont\",\"Virginia\",\"Washington\",\"West Virginia\",\"Wisconsin\",\"Wyoming\",\"New York City\"],\"xaxis\":\"x\",\"y\":[164,24,155,101,604,143,92,37,5,554,288,19,43,228,191,121,51,181,146,50,130,205,274,150,122,146,75,58,82,48,181,69,324,214,421,34,296,152,68,421,47,223,45,249,639,62,24,222,140,91,138,29],\"yaxis\":\"y\",\"type\":\"bar\"}],                        {\"template\":{\"data\":{\"histogram2dcontour\":[{\"type\":\"histogram2dcontour\",\"colorbar\":{\"outlinewidth\":0,\"ticks\":\"\"},\"colorscale\":[[0.0,\"#0d0887\"],[0.1111111111111111,\"#46039f\"],[0.2222222222222222,\"#7201a8\"],[0.3333333333333333,\"#9c179e\"],[0.4444444444444444,\"#bd3786\"],[0.5555555555555556,\"#d8576b\"],[0.6666666666666666,\"#ed7953\"],[0.7777777777777778,\"#fb9f3a\"],[0.8888888888888888,\"#fdca26\"],[1.0,\"#f0f921\"]]}],\"choropleth\":[{\"type\":\"choropleth\",\"colorbar\":{\"outlinewidth\":0,\"ticks\":\"\"}}],\"histogram2d\":[{\"type\":\"histogram2d\",\"colorbar\":{\"outlinewidth\":0,\"ticks\":\"\"},\"colorscale\":[[0.0,\"#0d0887\"],[0.1111111111111111,\"#46039f\"],[0.2222222222222222,\"#7201a8\"],[0.3333333333333333,\"#9c179e\"],[0.4444444444444444,\"#bd3786\"],[0.5555555555555556,\"#d8576b\"],[0.6666666666666666,\"#ed7953\"],[0.7777777777777778,\"#fb9f3a\"],[0.8888888888888888,\"#fdca26\"],[1.0,\"#f0f921\"]]}],\"heatmap\":[{\"type\":\"heatmap\",\"colorbar\":{\"outlinewidth\":0,\"ticks\":\"\"},\"colorscale\":[[0.0,\"#0d0887\"],[0.1111111111111111,\"#46039f\"],[0.2222222222222222,\"#7201a8\"],[0.3333333333333333,\"#9c179e\"],[0.4444444444444444,\"#bd3786\"],[0.5555555555555556,\"#d8576b\"],[0.6666666666666666,\"#ed7953\"],[0.7777777777777778,\"#fb9f3a\"],[0.8888888888888888,\"#fdca26\"],[1.0,\"#f0f921\"]]}],\"heatmapgl\":[{\"type\":\"heatmapgl\",\"colorbar\":{\"outlinewidth\":0,\"ticks\":\"\"},\"colorscale\":[[0.0,\"#0d0887\"],[0.1111111111111111,\"#46039f\"],[0.2222222222222222,\"#7201a8\"],[0.3333333333333333,\"#9c179e\"],[0.4444444444444444,\"#bd3786\"],[0.5555555555555556,\"#d8576b\"],[0.6666666666666666,\"#ed7953\"],[0.7777777777777778,\"#fb9f3a\"],[0.8888888888888888,\"#fdca26\"],[1.0,\"#f0f921\"]]}],\"contourcarpet\":[{\"type\":\"contourcarpet\",\"colorbar\":{\"outlinewidth\":0,\"ticks\":\"\"}}],\"contour\":[{\"type\":\"contour\",\"colorbar\":{\"outlinewidth\":0,\"ticks\":\"\"},\"colorscale\":[[0.0,\"#0d0887\"],[0.1111111111111111,\"#46039f\"],[0.2222222222222222,\"#7201a8\"],[0.3333333333333333,\"#9c179e\"],[0.4444444444444444,\"#bd3786\"],[0.5555555555555556,\"#d8576b\"],[0.6666666666666666,\"#ed7953\"],[0.7777777777777778,\"#fb9f3a\"],[0.8888888888888888,\"#fdca26\"],[1.0,\"#f0f921\"]]}],\"surface\":[{\"type\":\"surface\",\"colorbar\":{\"outlinewidth\":0,\"ticks\":\"\"},\"colorscale\":[[0.0,\"#0d0887\"],[0.1111111111111111,\"#46039f\"],[0.2222222222222222,\"#7201a8\"],[0.3333333333333333,\"#9c179e\"],[0.4444444444444444,\"#bd3786\"],[0.5555555555555556,\"#d8576b\"],[0.6666666666666666,\"#ed7953\"],[0.7777777777777778,\"#fb9f3a\"],[0.8888888888888888,\"#fdca26\"],[1.0,\"#f0f921\"]]}],\"mesh3d\":[{\"type\":\"mesh3d\",\"colorbar\":{\"outlinewidth\":0,\"ticks\":\"\"}}],\"scatter\":[{\"fillpattern\":{\"fillmode\":\"overlay\",\"size\":10,\"solidity\":0.2},\"type\":\"scatter\"}],\"parcoords\":[{\"type\":\"parcoords\",\"line\":{\"colorbar\":{\"outlinewidth\":0,\"ticks\":\"\"}}}],\"scatterpolargl\":[{\"type\":\"scatterpolargl\",\"marker\":{\"colorbar\":{\"outlinewidth\":0,\"ticks\":\"\"}}}],\"bar\":[{\"error_x\":{\"color\":\"#2a3f5f\"},\"error_y\":{\"color\":\"#2a3f5f\"},\"marker\":{\"line\":{\"color\":\"#E5ECF6\",\"width\":0.5},\"pattern\":{\"fillmode\":\"overlay\",\"size\":10,\"solidity\":0.2}},\"type\":\"bar\"}],\"scattergeo\":[{\"type\":\"scattergeo\",\"marker\":{\"colorbar\":{\"outlinewidth\":0,\"ticks\":\"\"}}}],\"scatterpolar\":[{\"type\":\"scatterpolar\",\"marker\":{\"colorbar\":{\"outlinewidth\":0,\"ticks\":\"\"}}}],\"histogram\":[{\"marker\":{\"pattern\":{\"fillmode\":\"overlay\",\"size\":10,\"solidity\":0.2}},\"type\":\"histogram\"}],\"scattergl\":[{\"type\":\"scattergl\",\"marker\":{\"colorbar\":{\"outlinewidth\":0,\"ticks\":\"\"}}}],\"scatter3d\":[{\"type\":\"scatter3d\",\"line\":{\"colorbar\":{\"outlinewidth\":0,\"ticks\":\"\"}},\"marker\":{\"colorbar\":{\"outlinewidth\":0,\"ticks\":\"\"}}}],\"scattermapbox\":[{\"type\":\"scattermapbox\",\"marker\":{\"colorbar\":{\"outlinewidth\":0,\"ticks\":\"\"}}}],\"scatterternary\":[{\"type\":\"scatterternary\",\"marker\":{\"colorbar\":{\"outlinewidth\":0,\"ticks\":\"\"}}}],\"scattercarpet\":[{\"type\":\"scattercarpet\",\"marker\":{\"colorbar\":{\"outlinewidth\":0,\"ticks\":\"\"}}}],\"carpet\":[{\"aaxis\":{\"endlinecolor\":\"#2a3f5f\",\"gridcolor\":\"white\",\"linecolor\":\"white\",\"minorgridcolor\":\"white\",\"startlinecolor\":\"#2a3f5f\"},\"baxis\":{\"endlinecolor\":\"#2a3f5f\",\"gridcolor\":\"white\",\"linecolor\":\"white\",\"minorgridcolor\":\"white\",\"startlinecolor\":\"#2a3f5f\"},\"type\":\"carpet\"}],\"table\":[{\"cells\":{\"fill\":{\"color\":\"#EBF0F8\"},\"line\":{\"color\":\"white\"}},\"header\":{\"fill\":{\"color\":\"#C8D4E3\"},\"line\":{\"color\":\"white\"}},\"type\":\"table\"}],\"barpolar\":[{\"marker\":{\"line\":{\"color\":\"#E5ECF6\",\"width\":0.5},\"pattern\":{\"fillmode\":\"overlay\",\"size\":10,\"solidity\":0.2}},\"type\":\"barpolar\"}],\"pie\":[{\"automargin\":true,\"type\":\"pie\"}]},\"layout\":{\"autotypenumbers\":\"strict\",\"colorway\":[\"#636efa\",\"#EF553B\",\"#00cc96\",\"#ab63fa\",\"#FFA15A\",\"#19d3f3\",\"#FF6692\",\"#B6E880\",\"#FF97FF\",\"#FECB52\"],\"font\":{\"color\":\"#2a3f5f\"},\"hovermode\":\"closest\",\"hoverlabel\":{\"align\":\"left\"},\"paper_bgcolor\":\"white\",\"plot_bgcolor\":\"#E5ECF6\",\"polar\":{\"bgcolor\":\"#E5ECF6\",\"angularaxis\":{\"gridcolor\":\"white\",\"linecolor\":\"white\",\"ticks\":\"\"},\"radialaxis\":{\"gridcolor\":\"white\",\"linecolor\":\"white\",\"ticks\":\"\"}},\"ternary\":{\"bgcolor\":\"#E5ECF6\",\"aaxis\":{\"gridcolor\":\"white\",\"linecolor\":\"white\",\"ticks\":\"\"},\"baxis\":{\"gridcolor\":\"white\",\"linecolor\":\"white\",\"ticks\":\"\"},\"caxis\":{\"gridcolor\":\"white\",\"linecolor\":\"white\",\"ticks\":\"\"}},\"coloraxis\":{\"colorbar\":{\"outlinewidth\":0,\"ticks\":\"\"}},\"colorscale\":{\"sequential\":[[0.0,\"#0d0887\"],[0.1111111111111111,\"#46039f\"],[0.2222222222222222,\"#7201a8\"],[0.3333333333333333,\"#9c179e\"],[0.4444444444444444,\"#bd3786\"],[0.5555555555555556,\"#d8576b\"],[0.6666666666666666,\"#ed7953\"],[0.7777777777777778,\"#fb9f3a\"],[0.8888888888888888,\"#fdca26\"],[1.0,\"#f0f921\"]],\"sequentialminus\":[[0.0,\"#0d0887\"],[0.1111111111111111,\"#46039f\"],[0.2222222222222222,\"#7201a8\"],[0.3333333333333333,\"#9c179e\"],[0.4444444444444444,\"#bd3786\"],[0.5555555555555556,\"#d8576b\"],[0.6666666666666666,\"#ed7953\"],[0.7777777777777778,\"#fb9f3a\"],[0.8888888888888888,\"#fdca26\"],[1.0,\"#f0f921\"]],\"diverging\":[[0,\"#8e0152\"],[0.1,\"#c51b7d\"],[0.2,\"#de77ae\"],[0.3,\"#f1b6da\"],[0.4,\"#fde0ef\"],[0.5,\"#f7f7f7\"],[0.6,\"#e6f5d0\"],[0.7,\"#b8e186\"],[0.8,\"#7fbc41\"],[0.9,\"#4d9221\"],[1,\"#276419\"]]},\"xaxis\":{\"gridcolor\":\"white\",\"linecolor\":\"white\",\"ticks\":\"\",\"title\":{\"standoff\":15},\"zerolinecolor\":\"white\",\"automargin\":true,\"zerolinewidth\":2},\"yaxis\":{\"gridcolor\":\"white\",\"linecolor\":\"white\",\"ticks\":\"\",\"title\":{\"standoff\":15},\"zerolinecolor\":\"white\",\"automargin\":true,\"zerolinewidth\":2},\"scene\":{\"xaxis\":{\"backgroundcolor\":\"#E5ECF6\",\"gridcolor\":\"white\",\"linecolor\":\"white\",\"showbackground\":true,\"ticks\":\"\",\"zerolinecolor\":\"white\",\"gridwidth\":2},\"yaxis\":{\"backgroundcolor\":\"#E5ECF6\",\"gridcolor\":\"white\",\"linecolor\":\"white\",\"showbackground\":true,\"ticks\":\"\",\"zerolinecolor\":\"white\",\"gridwidth\":2},\"zaxis\":{\"backgroundcolor\":\"#E5ECF6\",\"gridcolor\":\"white\",\"linecolor\":\"white\",\"showbackground\":true,\"ticks\":\"\",\"zerolinecolor\":\"white\",\"gridwidth\":2}},\"shapedefaults\":{\"line\":{\"color\":\"#2a3f5f\"}},\"annotationdefaults\":{\"arrowcolor\":\"#2a3f5f\",\"arrowhead\":0,\"arrowwidth\":1},\"geo\":{\"bgcolor\":\"white\",\"landcolor\":\"#E5ECF6\",\"subunitcolor\":\"white\",\"showland\":true,\"showlakes\":true,\"lakecolor\":\"white\"},\"title\":{\"x\":0.05},\"mapbox\":{\"style\":\"light\"}}},\"xaxis\":{\"anchor\":\"y\",\"domain\":[0.0,1.0],\"title\":{\"text\":\"States\"}},\"yaxis\":{\"anchor\":\"x\",\"domain\":[0.0,1.0],\"title\":{\"text\":\"Influenza Deaths\"}},\"legend\":{\"tracegroupgap\":0},\"title\":{\"text\":\"Influenza Deaths per State 2023-2024\"},\"barmode\":\"relative\"},                        {\"responsive\": true}                    ).then(function(){\n",
       "                            \n",
       "var gd = document.getElementById('bf723fc9-1d75-4d2f-a240-ebbb4db49191');\n",
       "var x = new MutationObserver(function (mutations, observer) {{\n",
       "        var display = window.getComputedStyle(gd).display;\n",
       "        if (!display || display === 'none') {{\n",
       "            console.log([gd, 'removed!']);\n",
       "            Plotly.purge(gd);\n",
       "            observer.disconnect();\n",
       "        }}\n",
       "}});\n",
       "\n",
       "// Listen for the removal of the full notebook cells\n",
       "var notebookContainer = gd.closest('#notebook-container');\n",
       "if (notebookContainer) {{\n",
       "    x.observe(notebookContainer, {childList: true});\n",
       "}}\n",
       "\n",
       "// Listen for the clearing of the current output cell\n",
       "var outputEl = gd.closest('.output');\n",
       "if (outputEl) {{\n",
       "    x.observe(outputEl, {childList: true});\n",
       "}}\n",
       "\n",
       "                        })                };                });            </script>        </div>"
      ]
     },
     "metadata": {},
     "output_type": "display_data"
    }
   ],
   "source": [
    "states = influenza_deaths_df['States']\n",
    "deaths = influenza_deaths_df['Influenza Deaths']\n",
    "\n",
    "'''\n",
    "plt.figure(figsize=(12, 5))\n",
    "plt.bar(states, deaths, color='red')\n",
    "plt.xticks(rotation=90)\n",
    "plt.xlabel('States')\n",
    "plt.ylabel('Influenza Deaths')\n",
    "plt.title('Influenza Deaths per State 2023-2024')\n",
    "plt.show()\n",
    "'''\n",
    "import plotly.express as px\n",
    "\n",
    "states = influenza_deaths_df['States']\n",
    "deaths = influenza_deaths_df['Influenza Deaths']\n",
    "\n",
    "fig = px.bar(x=states, y=deaths, labels={'x':'States', 'y':'Influenza Deaths'}, title='Influenza Deaths per State 2023-2024')\n",
    "fig.show()"
   ]
  },
  {
   "cell_type": "code",
   "execution_count": null,
   "id": "3d34fbb0-85b3-45fe-96a6-89fde7709f61",
   "metadata": {},
   "outputs": [],
   "source": []
  }
 ],
 "metadata": {
  "kernelspec": {
   "display_name": "Python 3 (ipykernel)",
   "language": "python",
   "name": "python3"
  },
  "language_info": {
   "codemirror_mode": {
    "name": "ipython",
    "version": 3
   },
   "file_extension": ".py",
   "mimetype": "text/x-python",
   "name": "python",
   "nbconvert_exporter": "python",
   "pygments_lexer": "ipython3",
   "version": "3.11.7"
  }
 },
 "nbformat": 4,
 "nbformat_minor": 5
}
